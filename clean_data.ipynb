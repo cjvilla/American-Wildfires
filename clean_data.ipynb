{
 "metadata": {
  "language_info": {
   "codemirror_mode": {
    "name": "ipython",
    "version": 3
   },
   "file_extension": ".py",
   "mimetype": "text/x-python",
   "name": "python",
   "nbconvert_exporter": "python",
   "pygments_lexer": "ipython3",
   "version": "3.8.5"
  },
  "orig_nbformat": 2,
  "kernelspec": {
   "name": "python385jvsc74a57bd064e667013b3039707ad5c02440a2e75f5ee06db9bfa0990f6985de7255cf0e18",
   "display_name": "Python 3.8.5 64-bit (conda)"
  }
 },
 "nbformat": 4,
 "nbformat_minor": 2,
 "cells": [
  {
   "cell_type": "code",
   "execution_count": 12,
   "metadata": {},
   "outputs": [],
   "source": [
    "import pandas as pd"
   ]
  },
  {
   "cell_type": "code",
   "execution_count": 13,
   "metadata": {},
   "outputs": [],
   "source": [
    "# import files from sqlite3 database in .csv form d/t computer crashes from sqlite form\n",
    "fires_file = 'Resources/fires.csv'\n",
    "geographic_file = 'Resources/geographic_area.csv'"
   ]
  },
  {
   "cell_type": "code",
   "execution_count": 14,
   "metadata": {},
   "outputs": [
    {
     "output_type": "stream",
     "name": "stderr",
     "text": [
      "C:\\Users\\filip\\anaconda\\Anaconda3\\lib\\site-packages\\IPython\\core\\interactiveshell.py:3146: DtypeWarning: Columns (4) have mixed types.Specify dtype option on import or set low_memory=False.\n  has_raised = await self.run_ast_nodes(code_ast.body, cell_name,\n"
     ]
    }
   ],
   "source": [
    "fires_df = pd.read_csv(fires_file)\n",
    "geographic_df = pd.read_csv(geographic_file)"
   ]
  },
  {
   "cell_type": "code",
   "execution_count": 15,
   "metadata": {},
   "outputs": [],
   "source": [
    "clean_merge = fires_df.merge(geographic_df, on='OBJECTID', how = 'inner')"
   ]
  },
  {
   "cell_type": "code",
   "execution_count": 16,
   "metadata": {},
   "outputs": [
    {
     "output_type": "execute_result",
     "data": {
      "text/plain": [
       "   OBJECTID   LATITUDE   LONGITUDE STATE COUNTY  FIPS_CODE  FIPS_NAME  \\\n",
       "0         1  40.036944 -121.005833    CA     63       63.0     Plumas   \n",
       "1         2  38.933056 -120.404444    CA     61       61.0     Placer   \n",
       "2         3  38.984167 -120.735556    CA     17       17.0  El Dorado   \n",
       "3         4  38.559167 -119.913333    CA      3        3.0     Alpine   \n",
       "4         5  38.559167 -119.933056    CA      3        3.0     Alpine   \n",
       "\n",
       "   FIRE_YEAR  FIRE_SIZE FIRE_SIZE_CLASS STAT_CAUSE_DESCR GeographicArea  \n",
       "0       2005       0.10               A    Miscellaneous             AK  \n",
       "1       2004       0.25               A        Lightning             AK  \n",
       "2       2004       0.10               A   Debris Burning             AK  \n",
       "3       2004       0.10               A        Lightning             AK  \n",
       "4       2004       0.10               A        Lightning             AK  "
      ],
      "text/html": "<div>\n<style scoped>\n    .dataframe tbody tr th:only-of-type {\n        vertical-align: middle;\n    }\n\n    .dataframe tbody tr th {\n        vertical-align: top;\n    }\n\n    .dataframe thead th {\n        text-align: right;\n    }\n</style>\n<table border=\"1\" class=\"dataframe\">\n  <thead>\n    <tr style=\"text-align: right;\">\n      <th></th>\n      <th>OBJECTID</th>\n      <th>LATITUDE</th>\n      <th>LONGITUDE</th>\n      <th>STATE</th>\n      <th>COUNTY</th>\n      <th>FIPS_CODE</th>\n      <th>FIPS_NAME</th>\n      <th>FIRE_YEAR</th>\n      <th>FIRE_SIZE</th>\n      <th>FIRE_SIZE_CLASS</th>\n      <th>STAT_CAUSE_DESCR</th>\n      <th>GeographicArea</th>\n    </tr>\n  </thead>\n  <tbody>\n    <tr>\n      <th>0</th>\n      <td>1</td>\n      <td>40.036944</td>\n      <td>-121.005833</td>\n      <td>CA</td>\n      <td>63</td>\n      <td>63.0</td>\n      <td>Plumas</td>\n      <td>2005</td>\n      <td>0.10</td>\n      <td>A</td>\n      <td>Miscellaneous</td>\n      <td>AK</td>\n    </tr>\n    <tr>\n      <th>1</th>\n      <td>2</td>\n      <td>38.933056</td>\n      <td>-120.404444</td>\n      <td>CA</td>\n      <td>61</td>\n      <td>61.0</td>\n      <td>Placer</td>\n      <td>2004</td>\n      <td>0.25</td>\n      <td>A</td>\n      <td>Lightning</td>\n      <td>AK</td>\n    </tr>\n    <tr>\n      <th>2</th>\n      <td>3</td>\n      <td>38.984167</td>\n      <td>-120.735556</td>\n      <td>CA</td>\n      <td>17</td>\n      <td>17.0</td>\n      <td>El Dorado</td>\n      <td>2004</td>\n      <td>0.10</td>\n      <td>A</td>\n      <td>Debris Burning</td>\n      <td>AK</td>\n    </tr>\n    <tr>\n      <th>3</th>\n      <td>4</td>\n      <td>38.559167</td>\n      <td>-119.913333</td>\n      <td>CA</td>\n      <td>3</td>\n      <td>3.0</td>\n      <td>Alpine</td>\n      <td>2004</td>\n      <td>0.10</td>\n      <td>A</td>\n      <td>Lightning</td>\n      <td>AK</td>\n    </tr>\n    <tr>\n      <th>4</th>\n      <td>5</td>\n      <td>38.559167</td>\n      <td>-119.933056</td>\n      <td>CA</td>\n      <td>3</td>\n      <td>3.0</td>\n      <td>Alpine</td>\n      <td>2004</td>\n      <td>0.10</td>\n      <td>A</td>\n      <td>Lightning</td>\n      <td>AK</td>\n    </tr>\n  </tbody>\n</table>\n</div>"
     },
     "metadata": {},
     "execution_count": 16
    }
   ],
   "source": [
    "clean_merge.head()"
   ]
  },
  {
   "cell_type": "code",
   "execution_count": 17,
   "metadata": {},
   "outputs": [
    {
     "output_type": "execute_result",
     "data": {
      "text/plain": [
       "   OBJECTID   LATITUDE   LONGITUDE STATE COUNTY  FIPS_CODE  FIPS_NAME  \\\n",
       "0         1  40.036944 -121.005833    CA     63       63.0     Plumas   \n",
       "1         2  38.933056 -120.404444    CA     61       61.0     Placer   \n",
       "2         3  38.984167 -120.735556    CA     17       17.0  El Dorado   \n",
       "3         4  38.559167 -119.913333    CA      3        3.0     Alpine   \n",
       "4         5  38.559167 -119.933056    CA      3        3.0     Alpine   \n",
       "\n",
       "   FIRE_YEAR  FIRE_SIZE FIRE_SIZE_CLASS STAT_CAUSE_DESCR GeographicArea  \n",
       "0       2005       0.10               A    Miscellaneous             AK  \n",
       "1       2004       0.25               A        Lightning             AK  \n",
       "2       2004       0.10               A   Debris Burning             AK  \n",
       "3       2004       0.10               A        Lightning             AK  \n",
       "4       2004       0.10               A        Lightning             AK  "
      ],
      "text/html": "<div>\n<style scoped>\n    .dataframe tbody tr th:only-of-type {\n        vertical-align: middle;\n    }\n\n    .dataframe tbody tr th {\n        vertical-align: top;\n    }\n\n    .dataframe thead th {\n        text-align: right;\n    }\n</style>\n<table border=\"1\" class=\"dataframe\">\n  <thead>\n    <tr style=\"text-align: right;\">\n      <th></th>\n      <th>OBJECTID</th>\n      <th>LATITUDE</th>\n      <th>LONGITUDE</th>\n      <th>STATE</th>\n      <th>COUNTY</th>\n      <th>FIPS_CODE</th>\n      <th>FIPS_NAME</th>\n      <th>FIRE_YEAR</th>\n      <th>FIRE_SIZE</th>\n      <th>FIRE_SIZE_CLASS</th>\n      <th>STAT_CAUSE_DESCR</th>\n      <th>GeographicArea</th>\n    </tr>\n  </thead>\n  <tbody>\n    <tr>\n      <th>0</th>\n      <td>1</td>\n      <td>40.036944</td>\n      <td>-121.005833</td>\n      <td>CA</td>\n      <td>63</td>\n      <td>63.0</td>\n      <td>Plumas</td>\n      <td>2005</td>\n      <td>0.10</td>\n      <td>A</td>\n      <td>Miscellaneous</td>\n      <td>AK</td>\n    </tr>\n    <tr>\n      <th>1</th>\n      <td>2</td>\n      <td>38.933056</td>\n      <td>-120.404444</td>\n      <td>CA</td>\n      <td>61</td>\n      <td>61.0</td>\n      <td>Placer</td>\n      <td>2004</td>\n      <td>0.25</td>\n      <td>A</td>\n      <td>Lightning</td>\n      <td>AK</td>\n    </tr>\n    <tr>\n      <th>2</th>\n      <td>3</td>\n      <td>38.984167</td>\n      <td>-120.735556</td>\n      <td>CA</td>\n      <td>17</td>\n      <td>17.0</td>\n      <td>El Dorado</td>\n      <td>2004</td>\n      <td>0.10</td>\n      <td>A</td>\n      <td>Debris Burning</td>\n      <td>AK</td>\n    </tr>\n    <tr>\n      <th>3</th>\n      <td>4</td>\n      <td>38.559167</td>\n      <td>-119.913333</td>\n      <td>CA</td>\n      <td>3</td>\n      <td>3.0</td>\n      <td>Alpine</td>\n      <td>2004</td>\n      <td>0.10</td>\n      <td>A</td>\n      <td>Lightning</td>\n      <td>AK</td>\n    </tr>\n    <tr>\n      <th>4</th>\n      <td>5</td>\n      <td>38.559167</td>\n      <td>-119.933056</td>\n      <td>CA</td>\n      <td>3</td>\n      <td>3.0</td>\n      <td>Alpine</td>\n      <td>2004</td>\n      <td>0.10</td>\n      <td>A</td>\n      <td>Lightning</td>\n      <td>AK</td>\n    </tr>\n  </tbody>\n</table>\n</div>"
     },
     "metadata": {},
     "execution_count": 17
    }
   ],
   "source": [
    "clean_merge = clean_merge.filter(['OBJECTID', 'LATITUDE', 'LONGITUDE', 'STATE', 'COUNTY', 'FIPS_CODE', 'FIPS_NAME', 'FIRE_YEAR', 'FIRE_SIZE','FIRE_SIZE_CLASS', 'STAT_CAUSE_DESCR', 'GeographicArea'], axis=1)\n",
    "clean_merge.head()"
   ]
  },
  {
   "cell_type": "code",
   "execution_count": 18,
   "metadata": {},
   "outputs": [],
   "source": [
    "# merged file sent to sqlite3 database via import button\n",
    "clean_merge.to_csv('Resources/clean_merge.csv')"
   ]
  }
 ]
}