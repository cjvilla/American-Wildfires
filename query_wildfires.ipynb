{
 "metadata": {
  "language_info": {
   "codemirror_mode": {
    "name": "ipython",
    "version": 3
   },
   "file_extension": ".py",
   "mimetype": "text/x-python",
   "name": "python",
   "nbconvert_exporter": "python",
   "pygments_lexer": "ipython3",
   "version": "3.8.5"
  },
  "orig_nbformat": 2,
  "kernelspec": {
   "name": "python385jvsc74a57bd064e667013b3039707ad5c02440a2e75f5ee06db9bfa0990f6985de7255cf0e18",
   "display_name": "Python 3.8.5 64-bit ('base': conda)"
  }
 },
 "nbformat": 4,
 "nbformat_minor": 2,
 "cells": [
  {
   "source": [
    "Plotting Query Results"
   ],
   "cell_type": "markdown",
   "metadata": {}
  },
  {
   "cell_type": "code",
   "execution_count": 56,
   "metadata": {},
   "outputs": [],
   "source": [
    "import matplotlib\n",
    "from matplotlib import style\n",
    "style.use('seaborn')\n",
    "import matplotlib.pyplot as plt"
   ]
  },
  {
   "cell_type": "code",
   "execution_count": 57,
   "metadata": {},
   "outputs": [],
   "source": [
    "import pandas as pd"
   ]
  },
  {
   "cell_type": "code",
   "execution_count": 58,
   "metadata": {},
   "outputs": [],
   "source": [
    "import sqlalchemy\n",
    "from sqlalchemy.ext.automap import automap_base\n",
    "from sqlalchemy.orm import Session\n",
    "from sqlalchemy import create_engine, inspect, func"
   ]
  },
  {
   "cell_type": "code",
   "execution_count": 59,
   "metadata": {},
   "outputs": [],
   "source": [
    "engine = create_engine(\"sqlite:///../Project-2/Resources/wildfires.sqlite\", echo=False)"
   ]
  },
  {
   "cell_type": "code",
   "execution_count": 60,
   "metadata": {},
   "outputs": [
    {
     "output_type": "execute_result",
     "data": {
      "text/plain": [
       "['ElementaryGeometries',\n",
       " 'Fires',\n",
       " 'KNN',\n",
       " 'NWCG_UnitIDActive_20170109',\n",
       " 'SpatialIndex',\n",
       " 'geometry_columns',\n",
       " 'geometry_columns_auth',\n",
       " 'geometry_columns_field_infos',\n",
       " 'geometry_columns_statistics',\n",
       " 'geometry_columns_time',\n",
       " 'idx_Fires_Shape',\n",
       " 'idx_Fires_Shape_node',\n",
       " 'idx_Fires_Shape_parent',\n",
       " 'idx_Fires_Shape_rowid',\n",
       " 'spatial_ref_sys',\n",
       " 'spatial_ref_sys_aux',\n",
       " 'spatialite_history',\n",
       " 'sql_statements_log',\n",
       " 'sqlite_sequence',\n",
       " 'views_geometry_columns',\n",
       " 'views_geometry_columns_auth',\n",
       " 'views_geometry_columns_field_infos',\n",
       " 'views_geometry_columns_statistics',\n",
       " 'virts_geometry_columns',\n",
       " 'virts_geometry_columns_auth',\n",
       " 'virts_geometry_columns_field_infos',\n",
       " 'virts_geometry_columns_statistics']"
      ]
     },
     "metadata": {},
     "execution_count": 60
    }
   ],
   "source": [
    "# use the inspector to explore the database and print the table names\n",
    "inspector = inspect(engine)\n",
    "inspector.get_table_names()"
   ]
  },
  {
   "cell_type": "code",
   "execution_count": 62,
   "metadata": {},
   "outputs": [
    {
     "output_type": "stream",
     "name": "stdout",
     "text": [
      "OBJECTID INTEGER\nFOD_ID INTEGER\nFPA_ID TEXT(100)\nSOURCE_SYSTEM_TYPE TEXT(255)\nSOURCE_SYSTEM TEXT(30)\nNWCG_REPORTING_AGENCY TEXT(255)\nNWCG_REPORTING_UNIT_ID TEXT(255)\nNWCG_REPORTING_UNIT_NAME TEXT(255)\nSOURCE_REPORTING_UNIT TEXT(30)\nSOURCE_REPORTING_UNIT_NAME TEXT(255)\nLOCAL_FIRE_REPORT_ID TEXT(255)\nLOCAL_INCIDENT_ID TEXT(255)\nFIRE_CODE TEXT(10)\nFIRE_NAME TEXT(255)\nICS_209_INCIDENT_NUMBER TEXT(255)\nICS_209_NAME TEXT(255)\nMTBS_ID TEXT(255)\nMTBS_FIRE_NAME TEXT(50)\nCOMPLEX_NAME TEXT(255)\nFIRE_YEAR INTEGER\nDISCOVERY_DATE REAL\nDISCOVERY_DOY INTEGER\nDISCOVERY_TIME TEXT(4)\nSTAT_CAUSE_CODE REAL\nSTAT_CAUSE_DESCR TEXT(100)\nCONT_DATE REAL\nCONT_DOY INTEGER\nCONT_TIME TEXT(4)\nFIRE_SIZE REAL\nFIRE_SIZE_CLASS TEXT(1)\nLATITUDE REAL\nLONGITUDE REAL\nOWNER_CODE REAL\nOWNER_DESCR TEXT(100)\nSTATE TEXT(255)\nCOUNTY TEXT(255)\nFIPS_CODE TEXT(255)\nFIPS_NAME TEXT(255)\nShape INTEGER\n"
     ]
    }
   ],
   "source": [
    "# use inspector to print the column names and types\n",
    "columns = inspector.get_columns('Fires')\n",
    "for c in columns:\n",
    "    print(c['name'], c['type'])"
   ]
  },
  {
   "cell_type": "code",
   "execution_count": 71,
   "metadata": {},
   "outputs": [
    {
     "output_type": "execute_result",
     "data": {
      "text/plain": [
       "[(1, 'FS-FIRESTAT', 'CA', '63'),\n",
       " (2, 'FS-FIRESTAT', 'CA', '61'),\n",
       " (3, 'FS-FIRESTAT', 'CA', '17'),\n",
       " (4, 'FS-FIRESTAT', 'CA', '3'),\n",
       " (5, 'FS-FIRESTAT', 'CA', '3'),\n",
       " (6, 'FS-FIRESTAT', 'CA', '5'),\n",
       " (7, 'FS-FIRESTAT', 'CA', '17'),\n",
       " (8, 'FS-FIRESTAT', 'CA', None),\n",
       " (9, 'FS-FIRESTAT', 'CA', None),\n",
       " (10, 'FS-FIRESTAT', 'CA', '5')]"
      ]
     },
     "metadata": {},
     "execution_count": 71
    }
   ],
   "source": [
    "#use engine.execute to select and display the first 10 rows from the emoji table\n",
    "engine.execute('select OBJECTID, SOURCE_SYSTEM, STATE, COUNTY from Fires limit 10').fetchall()"
   ]
  },
  {
   "cell_type": "code",
   "execution_count": null,
   "metadata": {},
   "outputs": [],
   "source": []
  }
 ]
}