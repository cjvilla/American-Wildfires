{
 "metadata": {
  "language_info": {
   "codemirror_mode": {
    "name": "ipython",
    "version": 3
   },
   "file_extension": ".py",
   "mimetype": "text/x-python",
   "name": "python",
   "nbconvert_exporter": "python",
   "pygments_lexer": "ipython3",
   "version": "3.8.5"
  },
  "orig_nbformat": 2,
  "kernelspec": {
   "name": "python385jvsc74a57bd064e667013b3039707ad5c02440a2e75f5ee06db9bfa0990f6985de7255cf0e18",
   "display_name": "Python 3.8.5 64-bit (conda)"
  }
 },
 "nbformat": 4,
 "nbformat_minor": 2,
 "cells": [
  {
   "cell_type": "code",
   "execution_count": 1,
   "metadata": {},
   "outputs": [
    {
     "output_type": "display_data",
     "data": {
      "text/plain": "<IPython.lib.display.IFrame at 0x263b335be20>",
      "text/html": "\n        <iframe\n            width=\"1000\"\n            height=\"500\"\n            src=\"https://python-visualization.github.io/folium/\"\n            frameborder=\"0\"\n            allowfullscreen\n        ></iframe>\n        "
     },
     "metadata": {}
    }
   ],
   "source": [
    "from IPython.display import IFrame\n",
    "documentation = IFrame(src='https://python-visualization.github.io/folium/', width=1000, height=500)\n",
    "display(documentation)"
   ]
  },
  {
   "cell_type": "code",
   "execution_count": 2,
   "metadata": {},
   "outputs": [],
   "source": [
    "\n",
    "import folium\n",
    "from folium import plugins\n",
    "import ipywidgets\n",
    "import geocoder\n",
    "import geopy\n",
    "import numpy as np\n",
    "import pandas as pd"
   ]
  },
  {
   "cell_type": "code",
   "execution_count": 3,
   "metadata": {},
   "outputs": [
    {
     "output_type": "execute_result",
     "data": {
      "text/plain": [
       "  STATE   LATITUDE  LONGITUDE  SUM(FIRE_SIZER) STAT_CAUSE_DESC  \\\n",
       "0    DC  38.886690 -76.945100           32.500   Miscellaneous   \n",
       "1    DE  39.250000 -75.416667         4833.650           Arson   \n",
       "2    VT  43.345278 -72.953333         1556.486           Arson   \n",
       "3    RI  41.618920 -71.491630          562.410        Campfire   \n",
       "4    IN  39.031667 -86.175000        17322.890           Arson   \n",
       "\n",
       "   count(STAT_CAUSE_DESCR)  \n",
       "0                       66  \n",
       "1                      171  \n",
       "2                      456  \n",
       "3                      480  \n",
       "4                     2098  "
      ],
      "text/html": "<div>\n<style scoped>\n    .dataframe tbody tr th:only-of-type {\n        vertical-align: middle;\n    }\n\n    .dataframe tbody tr th {\n        vertical-align: top;\n    }\n\n    .dataframe thead th {\n        text-align: right;\n    }\n</style>\n<table border=\"1\" class=\"dataframe\">\n  <thead>\n    <tr style=\"text-align: right;\">\n      <th></th>\n      <th>STATE</th>\n      <th>LATITUDE</th>\n      <th>LONGITUDE</th>\n      <th>SUM(FIRE_SIZER)</th>\n      <th>STAT_CAUSE_DESC</th>\n      <th>count(STAT_CAUSE_DESCR)</th>\n    </tr>\n  </thead>\n  <tbody>\n    <tr>\n      <th>0</th>\n      <td>DC</td>\n      <td>38.886690</td>\n      <td>-76.945100</td>\n      <td>32.500</td>\n      <td>Miscellaneous</td>\n      <td>66</td>\n    </tr>\n    <tr>\n      <th>1</th>\n      <td>DE</td>\n      <td>39.250000</td>\n      <td>-75.416667</td>\n      <td>4833.650</td>\n      <td>Arson</td>\n      <td>171</td>\n    </tr>\n    <tr>\n      <th>2</th>\n      <td>VT</td>\n      <td>43.345278</td>\n      <td>-72.953333</td>\n      <td>1556.486</td>\n      <td>Arson</td>\n      <td>456</td>\n    </tr>\n    <tr>\n      <th>3</th>\n      <td>RI</td>\n      <td>41.618920</td>\n      <td>-71.491630</td>\n      <td>562.410</td>\n      <td>Campfire</td>\n      <td>480</td>\n    </tr>\n    <tr>\n      <th>4</th>\n      <td>IN</td>\n      <td>39.031667</td>\n      <td>-86.175000</td>\n      <td>17322.890</td>\n      <td>Arson</td>\n      <td>2098</td>\n    </tr>\n  </tbody>\n</table>\n</div>"
     },
     "metadata": {},
     "execution_count": 3
    }
   ],
   "source": [
    "causes_df = pd.read_csv('Resources/causes_map.csv')\n",
    "causes_df = causes_df.dropna()\n",
    "causes_df.head()"
   ]
  },
  {
   "cell_type": "code",
   "execution_count": 10,
   "metadata": {},
   "outputs": [],
   "source": [
    "causes_map = folium.Map(location=[38,-98], zoom_start=4, icon='Fire')\n",
    "\n",
    "for (index, row) in causes_df.iterrows():\n",
    "    folium.Marker(location=[row.loc['LATITUDE'], row.loc['LONGITUDE']], \n",
    "                  popup= 'STATE: '+ str(row.loc['STATE']) + '\\n' + 'MAIN CAUSE: ' + str(row.loc            \n",
    "                  ['STAT_CAUSE_DESC']), \n",
    "                  tooltip='click',icon=folium.Icon(color='red',        \n",
    "                  icon='fire', prefix='fa')).add_to(causes_map)\n",
    "\n",
    "folium.raster_layers.TileLayer('Stamen Terrain').add_to(causes_map)\n",
    "folium.raster_layers.TileLayer('Stamen Toner').add_to(causes_map)\n",
    "folium.raster_layers.TileLayer('Stamen Watercolor').add_to(causes_map)\n",
    "folium.raster_layers.TileLayer('CartoDB Positron').add_to(causes_map)\n",
    "folium.raster_layers.TileLayer('CartoDB Dark_Matter').add_to(causes_map)\n",
    "folium.LayerControl().add_to(causes_map)\n",
    "title_html = '''\n",
    "    <h3 alight=\"center\" style=\"font-size:20px\"<b><strong>Main Cause of Wildfires and their Corresponding Count Per State</strong><br>   - Please Click fire Icons for State Information.   - Icons are located in areas of each state with the most concentrated locations of wildfires<br>   - Optional map layers are provided in the stacked icon on the upper right <br>   - Zoom in and out function available</h3>\n",
    "    '''\n",
    "causes_map.get_root().html.add_child(folium.Element(title_html))\n",
    "# add layer control to show different maps\n",
    "causes_map.save('templates/causes_map.html')"
   ]
  },
  {
   "cell_type": "code",
   "execution_count": null,
   "metadata": {},
   "outputs": [],
   "source": []
  }
 ]
}