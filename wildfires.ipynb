{
 "metadata": {
  "language_info": {
   "codemirror_mode": {
    "name": "ipython",
    "version": 3
   },
   "file_extension": ".py",
   "mimetype": "text/x-python",
   "name": "python",
   "nbconvert_exporter": "python",
   "pygments_lexer": "ipython3",
   "version": "3.8.5"
  },
  "orig_nbformat": 2,
  "kernelspec": {
   "name": "python385jvsc74a57bd0320b063615c881cf99d5bda0a05a87a093cceae5b3aed84278fa7ef3d4b95f2a",
   "display_name": "Python 3.8.5 64-bit ('base': conda)"
  }
 },
 "nbformat": 4,
 "nbformat_minor": 2,
 "cells": [
  {
   "cell_type": "code",
   "execution_count": 1,
   "metadata": {},
   "outputs": [],
   "source": [
    "#import necessaru libraries\n",
    "\n",
    "import sqlite3 as lite\n",
    "import pandas as pd\n",
    "import json automap_base\n",
    "from sqlalchemy.orm import Session\n",
    "from sqlalchemy import create_engine, inspect, func\n"
   ]
  },
  {
   "cell_type": "code",
   "execution_count": 2,
   "metadata": {},
   "outputs": [
    {
     "output_type": "stream",
     "name": "stdout",
     "text": [
      "Index(['OBJECTID', 'FOD_ID', 'FPA_ID', 'SOURCE_SYSTEM_TYPE', 'SOURCE_SYSTEM',\n       'NWCG_REPORTING_AGENCY', 'NWCG_REPORTING_UNIT_ID',\n       'NWCG_REPORTING_UNIT_NAME', 'SOURCE_REPORTING_UNIT',\n       'SOURCE_REPORTING_UNIT_NAME', 'LOCAL_FIRE_REPORT_ID',\n       'LOCAL_INCIDENT_ID', 'FIRE_CODE', 'FIRE_NAME',\n       'ICS_209_INCIDENT_NUMBER', 'ICS_209_NAME', 'MTBS_ID', 'MTBS_FIRE_NAME',\n       'COMPLEX_NAME', 'FIRE_YEAR', 'DISCOVERY_DATE', 'DISCOVERY_DOY',\n       'DISCOVERY_TIME', 'STAT_CAUSE_CODE', 'STAT_CAUSE_DESCR', 'CONT_DATE',\n       'CONT_DOY', 'CONT_TIME', 'FIRE_SIZE', 'FIRE_SIZE_CLASS', 'LATITUDE',\n       'LONGITUDE', 'OWNER_CODE', 'OWNER_DESCR', 'STATE', 'COUNTY',\n       'FIPS_CODE', 'FIPS_NAME', 'Shape'],\n      dtype='object')\n"
     ]
    }
   ],
   "source": [
    "#create engine\n",
    "engine = create_engine(\"sqlite:///Resources/FPA_FOD_20170508.sqlite\")\n",
    "\n",
    "con = lite.connect('Resources/FPA_FOD_20170508.sqlite')\n",
    "\n",
    "query = \"SELECT * FROM fires LIMIT 10;\"\n",
    "\n",
    "df = pd.read_sql_query(query,con)\n",
    "\n",
    "df.head()\n",
    "#print column \n",
    "print(df.columns)\n"
   ]
  },
  {
   "cell_type": "code",
   "execution_count": 6,
   "metadata": {},
   "outputs": [
    {
     "output_type": "stream",
     "name": "stdout",
     "text": [
      "    FIRE_YEAR  FIRE_COUNT  AVERAGE_SIZE\n0        2015       74491    137.174526\n1        2014       67753     54.218860\n2        2013       64780     69.350145\n3        2012       72769    129.724037\n4        2011       90552    106.277026\n5        2010       79889     43.728864\n6        2009       78325     77.333752\n7        2008       85378     63.324652\n8        2007       95573     96.946091\n9        2006      114004     88.097768\n10       2005       88604    109.082041\n11       2004       69279    118.855760\n12       2003       68261     65.682790\n13       2002       75656     89.923580\n14       2001       86587     43.009601\n15       2000       96416     79.234760\n16       1999       89363     68.039342\n17       1998       68370     29.414983\n18       1997       61450     52.313024\n19       1996       75574     79.460604\n20       1995       71472     28.676755\n21       1994       75955     54.198875\n22       1993       61989     35.356208\n23       1992       67975     32.364222\n"
     ]
    }
   ],
   "source": [
    "#number of fires by year\n",
    "yquery = \"SELECT FIRE_YEAR, COUNT(DISTINCT OBJECTID) AS FIRE_COUNT, AVG(FIRE_SIZE) AS AVERAGE_SIZE FROM fires GROUP BY FIRE_YEAR ORDER BY FIRE_YEAR DESC;\"\n",
    "years_df = pd.read_sql_query(yquery,con)\n",
    "print(years_df)"
   ]
  },
  {
   "cell_type": "code",
   "execution_count": 4,
   "metadata": {},
   "outputs": [
    {
     "output_type": "stream",
     "name": "stdout",
     "text": [
      "     STAT_CAUSE_DESCR  COUNT(DISTINCT OBJECTID)  AVG(FIRE_SIZE)\n0           Lightning                    278468      312.543994\n1       Miscellaneous                    323805       44.453310\n2               Arson                    281455       33.707961\n3            Campfire                     76139       45.036860\n4      Debris Burning                    429028       13.928678\n5       Equipment Use                    147612       46.060255\n6   Missing/Undefined                    166723       52.492610\n7            Children                     61167        7.681107\n8           Fireworks                     11500       27.670201\n9             Smoking                     52869       15.938651\n10          Powerline                     14448      111.395547\n11           Railroad                     33455       25.395719\n12          Structure                      3796       45.360746\n"
     ]
    }
   ],
   "source": [
    "causequery = \"SELECT STAT_CAUSE_DESCR, COUNT(DISTINCT OBJECTID), AVG(FIRE_SIZE) FROM fires GROUP BY STAT_CAUSE_DESCR ORDER BY COUNT(DISTINCT FIRE_CODE) DESC\"\n",
    "cause_df = pd.read_sql_query(causequery,con)\n",
    "print(cause_df)"
   ]
  },
  {
   "cell_type": "code",
   "execution_count": 5,
   "metadata": {},
   "outputs": [
    {
     "output_type": "stream",
     "name": "stdout",
     "text": [
      "   STATE  COUNT(DISTINCT OBJECTID)  AVG(FIRE_SIZE)\n0     CA                    189550       67.242725\n1     AZ                     71586       77.901837\n2     MT                     40767      154.034541\n3     OR                     61088      137.716104\n4     CO                     34157       53.936502\n5     SD                     30963       50.733637\n6     NV                     16956      531.720650\n7     UT                     30725      133.927628\n8     OK                     43239       74.758674\n9     NM                     37478      170.234318\n10    ID                     36698      372.890482\n11    ND                     15201       27.143427\n12    MN                     44769       27.041154\n13    WA                     33513      142.697410\n14    WY                     14166      169.523555\n15    AK                     12843     2509.779198\n16    TX                    142021       68.906840\n17    FL                     90261       49.154653\n18    NC                    111277        6.564892\n19    AR                     31663       16.072761\n20    LA                     30013       22.024586\n21    MS                     79230       14.331488\n22    MO                     17953       25.596042\n23    WI                     31861        2.783192\n24    NE                      7973      121.334348\n25    KS                      7673      120.241601\n26    GA                    168867        9.415452\n27    SC                     81315        6.661331\n28    KY                     27089       37.465052\n29    MI                     10502       13.352641\n30    VA                     21833       15.648139\n31    AL                     66570       13.828230\n32    MD                      3622       18.575243\n33    IL                      2327        9.801253\n34    TN                     31154       15.620864\n35    NY                     80870        1.159540\n36    PR                     22081        6.280894\n37    IA                      4134       17.293654\n38    IN                      2098        8.256859\n39    WV                     21967       26.249877\n40    ME                     13150        1.867349\n41    NJ                     25949        5.085496\n42    PA                      8712        6.282227\n43    HI                      9895       25.544315\n44    MA                      2626        2.332342\n45    OH                      3479        6.879521\n46    DE                       171       28.266959\n47    DC                        66        0.492424\n48    NH                      2452        1.575044\n49    VT                       456        3.413346\n50    RI                       480        1.171688\n51    CT                      4976        2.259508\n"
     ]
    }
   ],
   "source": [
    "statequery = \"SELECT STATE, COUNT(DISTINCT OBJECTID), AVG(FIRE_SIZE) FROM fires GROUP BY STATE ORDER BY COUNT(DISTINCT FIRE_CODE) DESC\"\n",
    "\n",
    "state_df = pd.read_sql_query(statequery,con)\n",
    "print(state_df)"
   ]
  },
  {
   "cell_type": "code",
   "execution_count": null,
   "metadata": {},
   "outputs": [],
   "source": []
  }
 ]
}