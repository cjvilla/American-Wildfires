{
 "metadata": {
  "language_info": {
   "codemirror_mode": {
    "name": "ipython",
    "version": 3
   },
   "file_extension": ".py",
   "mimetype": "text/x-python",
   "name": "python",
   "nbconvert_exporter": "python",
   "pygments_lexer": "ipython3",
   "version": "3.8.5"
  },
  "orig_nbformat": 2,
  "kernelspec": {
   "name": "python385jvsc74a57bd0320b063615c881cf99d5bda0a05a87a093cceae5b3aed84278fa7ef3d4b95f2a",
   "display_name": "Python 3.8.5 64-bit ('base': conda)"
  }
 },
 "nbformat": 4,
 "nbformat_minor": 2,
 "cells": [
  {
   "cell_type": "code",
   "execution_count": 49,
   "metadata": {},
   "outputs": [],
   "source": [
    "#import necessaru libraries\n",
    "import sqlite3 as lite\n",
    "import pandas as pd\n",
    "import json \n",
    "\n",
    "import sqlalchemy\n",
    "from sqlalchemy.ext.automap import automap_base\n",
    "from sqlalchemy.orm import Session\n",
    "from sqlalchemy import create_engine, inspect, func\n"
   ]
  },
  {
   "cell_type": "code",
   "execution_count": 53,
   "metadata": {},
   "outputs": [
    {
     "output_type": "stream",
     "name": "stdout",
     "text": [
      "Index(['OBJECTID', 'FOD_ID', 'FPA_ID', 'SOURCE_SYSTEM_TYPE', 'SOURCE_SYSTEM',\n       'NWCG_REPORTING_AGENCY', 'NWCG_REPORTING_UNIT_ID',\n       'NWCG_REPORTING_UNIT_NAME', 'SOURCE_REPORTING_UNIT',\n       'SOURCE_REPORTING_UNIT_NAME', 'LOCAL_FIRE_REPORT_ID',\n       'LOCAL_INCIDENT_ID', 'FIRE_CODE', 'FIRE_NAME',\n       'ICS_209_INCIDENT_NUMBER', 'ICS_209_NAME', 'MTBS_ID', 'MTBS_FIRE_NAME',\n       'COMPLEX_NAME', 'FIRE_YEAR', 'DISCOVERY_DATE', 'DISCOVERY_DOY',\n       'DISCOVERY_TIME', 'STAT_CAUSE_CODE', 'STAT_CAUSE_DESCR', 'CONT_DATE',\n       'CONT_DOY', 'CONT_TIME', 'FIRE_SIZE', 'FIRE_SIZE_CLASS', 'LATITUDE',\n       'LONGITUDE', 'OWNER_CODE', 'OWNER_DESCR', 'STATE', 'COUNTY',\n       'FIPS_CODE', 'FIPS_NAME', 'Shape'],\n      dtype='object')\n"
     ]
    }
   ],
   "source": [
    "#create engine\n",
    "engine = create_engine(\"sqlite:///Resources/FPA_FOD_20170508.sqlite\")\n",
    "\n",
    "con = lite.connect('Resources/FPA_FOD_20170508.sqlite')\n",
    "\n",
    "query = \"SELECT * FROM fires LIMIT 10;\"\n",
    "\n",
    "df = pd.read_sql_query(query,con)\n",
    "\n",
    "df.head()\n",
    "#print column \n",
    "print(df.columns)\n"
   ]
  },
  {
   "cell_type": "code",
   "execution_count": 65,
   "metadata": {},
   "outputs": [
    {
     "output_type": "stream",
     "name": "stdout",
     "text": [
      "    FIRE_YEAR  FIRE_COUNT  AVERAGE_SIZE\n0        2015       10972    137.174526\n1        2012       14738    129.724037\n2        2004       11722    118.855760\n3        2005       14847    109.082041\n4        2011        9227    106.277026\n5        2007       12720     96.946091\n6        2002        6582     89.923580\n7        2006       17910     88.097768\n8        1996        5342     79.460604\n9        2000        7326     79.234760\n10       2009       11605     77.333752\n11       2013       10537     69.350145\n12       1999        7342     68.039342\n13       2003        7073     65.682790\n14       2008       11687     63.324652\n15       2014        9970     54.218860\n16       1994        4467     54.198875\n17       1997        3386     52.313024\n18       2010       11568     43.728864\n19       2001        7186     43.009601\n20       1993        3064     35.356208\n21       1992        3723     32.364222\n22       1998        6413     29.414983\n23       1995        3399     28.676755\n"
     ]
    }
   ],
   "source": [
    "#number of fires by year\n",
    "yquery = \"SELECT FIRE_YEAR, COUNT(DISTINCT FIRE_CODE) AS FIRE_COUNT, AVG(FIRE_SIZE) AS AVERAGE_SIZE FROM fires GROUP BY FIRE_YEAR ORDER BY AVG(FIRE_SIZE) DESC;\"\n",
    "years_df = pd.read_sql_query(yquery,con)\n",
    "print(years_df)"
   ]
  },
  {
   "cell_type": "code",
   "execution_count": 66,
   "metadata": {},
   "outputs": [
    {
     "output_type": "stream",
     "name": "stdout",
     "text": [
      "     STAT_CAUSE_DESCR  COUNT(DISTINCT FIRE_CODE)  AVG(FIRE_SIZE)\n0           Lightning                      60556      312.543994\n1       Miscellaneous                      33649       44.453310\n2               Arson                      28777       33.707961\n3            Campfire                      19512       45.036860\n4      Debris Burning                      16739       13.928678\n5       Equipment Use                      13493       46.060255\n6   Missing/Undefined                       6476       52.492610\n7            Children                       6383        7.681107\n8           Fireworks                       5480       27.670201\n9             Smoking                       3688       15.938651\n10          Powerline                       1934      111.395547\n11           Railroad                       1648       25.395719\n12          Structure                        772       45.360746\n"
     ]
    }
   ],
   "source": [
    "causequery = \"SELECT STAT_CAUSE_DESCR, COUNT(DISTINCT FIRE_CODE), AVG(FIRE_SIZE) FROM fires GROUP BY STAT_CAUSE_DESCR ORDER BY COUNT(DISTINCT FIRE_CODE) DESC\"\n",
    "cause_df = pd.read_sql_query(causequery,con)\n",
    "print(cause_df)"
   ]
  },
  {
   "cell_type": "code",
   "execution_count": 67,
   "metadata": {},
   "outputs": [
    {
     "output_type": "stream",
     "name": "stdout",
     "text": [
      "   STATE  COUNT(DISTINCT FIRE_CODE)  AVG(FIRE_SIZE)\n0     CA                      23683       67.242725\n1     AZ                      15468       77.901837\n2     MT                      13301      154.034541\n3     OR                      12727      137.716104\n4     CO                      11948       53.936502\n5     SD                      10661       50.733637\n6     NV                      10522      531.720650\n7     UT                      10506      133.927628\n8     OK                       9653       74.758674\n9     NM                       8988      170.234318\n10    ID                       8793      372.890482\n11    ND                       8125       27.143427\n12    MN                       7316       27.041154\n13    WA                       6977      142.697410\n14    WY                       5293      169.523555\n15    AK                       4636     2509.779198\n16    TX                       3706       68.906840\n17    FL                       2630       49.154653\n18    NC                       1917        6.564892\n19    AR                       1322       16.072761\n20    LA                       1215       22.024586\n21    MS                       1110       14.331488\n22    MO                        931       25.596042\n23    WI                        905        2.783192\n24    NE                        879      121.334348\n25    KS                        734      120.241601\n26    GA                        676        9.415452\n27    SC                        668        6.661331\n28    KY                        582       37.465052\n29    MI                        564       13.352641\n30    VA                        505       15.648139\n31    AL                        422       13.828230\n32    MD                        388       18.575243\n33    IL                        356        9.801253\n34    TN                        304       15.620864\n35    NY                        302        1.159540\n36    PR                        277        6.280894\n37    IA                        265       17.293654\n38    IN                        263        8.256859\n39    WV                        121       26.249877\n40    ME                         96        1.867349\n41    NJ                         94        5.085496\n42    PA                         91        6.282227\n43    HI                         44       25.544315\n44    MA                         43        2.332342\n45    OH                         40        6.879521\n46    DE                         25       28.266959\n47    DC                         21        0.492424\n48    NH                         16        1.575044\n49    VT                         11        3.413346\n50    RI                          3        1.171688\n51    CT                          3        2.259508\n"
     ]
    }
   ],
   "source": [
    "statequery = \"SELECT STATE, COUNT(DISTINCT FIRE_CODE), AVG(FIRE_SIZE) FROM fires GROUP BY STATE ORDER BY COUNT(DISTINCT FIRE_CODE) DESC\"\n",
    "\n",
    "state_df = pd.read_sql_query(statequery,con)\n",
    "print(state_df)"
   ]
  },
  {
   "cell_type": "code",
   "execution_count": null,
   "metadata": {},
   "outputs": [],
   "source": []
  }
 ]
}