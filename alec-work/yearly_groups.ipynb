{
 "metadata": {
  "language_info": {
   "codemirror_mode": {
    "name": "ipython",
    "version": 3
   },
   "file_extension": ".py",
   "mimetype": "text/x-python",
   "name": "python",
   "nbconvert_exporter": "python",
   "pygments_lexer": "ipython3",
   "version": "3.8.5"
  },
  "orig_nbformat": 2,
  "kernelspec": {
   "name": "python385jvsc74a57bd0006b2a4c59105e151f59d7a783e9669671dc3b315a85df72952575de8c58cde6",
   "display_name": "Python 3.8.5 64-bit ('base': conda)"
  }
 },
 "nbformat": 4,
 "nbformat_minor": 2,
 "cells": [
  {
   "cell_type": "code",
   "execution_count": null,
   "metadata": {},
   "outputs": [],
   "source": [
    "# Import Dependencies\n",
    "import pandas as pd\n",
    "import sqlalchemy\n",
    "from sqlalchemy.ext.automap import automap_base\n",
    "from sqlalchemy.orm import Session\n",
    "from sqlalchemy import create_engine, inspect, func"
   ]
  },
  {
   "cell_type": "code",
   "execution_count": null,
   "metadata": {},
   "outputs": [],
   "source": [
    "# Create Engine for census data\n",
    "engine = create_engine(\"sqlite:///../../data/FPA_FOD_20170508.sqlite\")\n",
    "conn = engine.connect()"
   ]
  },
  {
   "cell_type": "code",
   "execution_count": null,
   "metadata": {},
   "outputs": [],
   "source": [
    "# Query All Records in the the Fires Table\n",
    "fires_data = pd.read_sql(\"SELECT * FROM Fires\", conn)"
   ]
  },
  {
   "cell_type": "code",
   "execution_count": null,
   "metadata": {},
   "outputs": [],
   "source": [
    "len(fires_data)"
   ]
  },
  {
   "cell_type": "code",
   "execution_count": null,
   "metadata": {},
   "outputs": [],
   "source": [
    "fires_data.head(10)"
   ]
  },
  {
   "cell_type": "code",
   "execution_count": null,
   "metadata": {},
   "outputs": [],
   "source": [
    "biggest_fires = fires_data.sort_values(by = 'FIRE_SIZE',ascending = False)\n",
    "biggest_fires_trimmed = biggest_fires[[\"FIRE_NAME\",\"FIRE_YEAR\",\"DISCOVERY_DATE\",\"STATE\",\n",
    "                                    \"STAT_CAUSE_DESCR\",\"FIRE_SIZE\",\"FIRE_SIZE_CLASS\",\n",
    "                                    \"LATITUDE\",\"LONGITUDE\",\"FIPS_NAME\"]]\n",
    "\n",
    "biggest_fires_trimmed.head(10)"
   ]
  },
  {
   "cell_type": "code",
   "execution_count": null,
   "metadata": {},
   "outputs": [],
   "source": [
    "top_20_fires = biggest_fires_trimmed[:20]\n",
    "epoch = pd.to_datetime(0, unit='s').to_julian_date()\n",
    "top_20_fires[\"DISCOVERY_DATE\"] = pd.to_datetime(top_20_fires[\"DISCOVERY_DATE\"] - epoch, unit='D')\n",
    "top_20_fires_df = top_20_fires.reset_index()\n",
    "top_20_fires_df"
   ]
  },
  {
   "cell_type": "code",
   "execution_count": null,
   "metadata": {},
   "outputs": [],
   "source": [
    "output_path_top_20_fires = \"output/top_20_fires.csv\"\n",
    "top_20_fires_df.to_csv(output_path_top_20_fires,index=False)"
   ]
  },
  {
   "cell_type": "code",
   "execution_count": null,
   "metadata": {},
   "outputs": [],
   "source": [
    "fires_data_trimmed = fires_data[[\"OBJECTID\",\"FIRE_YEAR\",\"DISCOVERY_DATE\",\"STATE\"\n",
    "                                    ,\"FIRE_SIZE\",\"FIRE_SIZE_CLASS\"]]\n",
    "fires_data_trimmed.head(10)"
   ]
  },
  {
   "cell_type": "code",
   "execution_count": null,
   "metadata": {},
   "outputs": [],
   "source": [
    "epoch = pd.to_datetime(0, unit='s').to_julian_date()\n",
    "fires_data_trimmed[\"DISCOVERY_DATE\"] = pd.to_datetime(fires_data_trimmed[\"DISCOVERY_DATE\"] - epoch, unit='D')\n",
    "fires_data_trimmed_converted = fires_data_trimmed"
   ]
  },
  {
   "cell_type": "code",
   "execution_count": null,
   "metadata": {},
   "outputs": [],
   "source": [
    "fires_data_yearly_df = pd.DataFrame(fires_data_trimmed_converted)\n",
    "print(len(fires_data_yearly_df))\n",
    "fires_data_yearly_df.head(5) \n"
   ]
  },
  {
   "cell_type": "code",
   "execution_count": null,
   "metadata": {},
   "outputs": [],
   "source": [
    "# grouping by year\n",
    "year_group = fires_data_yearly_df.groupby(['FIRE_YEAR'])\n",
    "year_group"
   ]
  },
  {
   "cell_type": "code",
   "execution_count": null,
   "metadata": {},
   "outputs": [],
   "source": [
    "# grouping by year & state\n",
    "year_state_group = fires_data_yearly_df.groupby(['FIRE_YEAR','STATE'])\n",
    "year_state_group"
   ]
  },
  {
   "cell_type": "code",
   "execution_count": null,
   "metadata": {},
   "outputs": [],
   "source": [
    "# total fires by year\n",
    "total_fires_year = year_group['OBJECTID'].count()\n",
    "total_fires_year_df = pd.DataFrame(total_fires_year).rename(columns={\"OBJECTID\": \"COUNT_FIRES\"})\n",
    "total_fires_year_df"
   ]
  },
  {
   "cell_type": "code",
   "execution_count": null,
   "metadata": {},
   "outputs": [],
   "source": [
    "# total fires by year by state\n",
    "total_fires_year_state = year_state_group['OBJECTID'].count()\n",
    "total_fires_year_state_df = pd.DataFrame(total_fires_year_state).rename(columns={\"OBJECTID\": \"COUNT_FIRES\"})\n",
    "total_fires_year_state_df"
   ]
  },
  {
   "cell_type": "code",
   "execution_count": null,
   "metadata": {},
   "outputs": [],
   "source": [
    "# total fire size by year\n",
    "total_fire_size_year = year_group['FIRE_SIZE'].sum()\n",
    "total_fire_size_year_df = pd.DataFrame(total_fire_size_year)\n",
    "total_fire_size_year_df"
   ]
  },
  {
   "cell_type": "code",
   "execution_count": null,
   "metadata": {},
   "outputs": [],
   "source": [
    "# total fire size by year by state\n",
    "total_fire_size_year_state = year_state_group['FIRE_SIZE'].sum()\n",
    "total_fire_size_year_state_df = pd.DataFrame(total_fire_size_year_state)\n",
    "total_fire_size_year_state_df"
   ]
  },
  {
   "cell_type": "code",
   "execution_count": null,
   "metadata": {},
   "outputs": [],
   "source": [
    "# merging count of fires and sum of size dataframes\n",
    "fire_size_count_year_state = total_fire_size_year_state_df.merge(total_fires_year_state_df\n",
    "                                    ,left_index=True,right_index=True)\n",
    "fire_size_count_year_state_df = pd.DataFrame(fire_size_count_year_state)\n",
    "fire_size_count_year_state_df"
   ]
  },
  {
   "cell_type": "code",
   "execution_count": null,
   "metadata": {},
   "outputs": [],
   "source": [
    "fire_size_count_year_state_df['AVG_FIRE_SIZE'] = fire_size_count_year_state_df['FIRE_SIZE'] / fire_size_count_year_state_df['COUNT_FIRES']\n",
    "fire_size_count_year_state_df"
   ]
  },
  {
   "cell_type": "code",
   "execution_count": null,
   "metadata": {},
   "outputs": [],
   "source": [
    "year_df_1 = fire_size_count_year_state_df.reset_index()\n",
    "year_df_2 = fire_size_count_year_state_df.groupby([\"FIRE_YEAR\"]).sum()\n",
    "year_df_2[\"STATE\"] = \"ALL STATES\"\n",
    "\n",
    "year_df_3 = year_df_2.reset_index()\n",
    "\n",
    "first_column = year_df_3.pop('STATE')\n",
    "year_df_3.insert(0, 'STATE', first_column)\n",
    "# year_df_4 = year_df_3.columns(\"FIRE_YEAR\",\"STATE\",\"FIRE_SIZE\",\"COUNT_FIRES\",\"AVG_FIRE_SIZE\")\n",
    "\n",
    "year_df_3"
   ]
  },
  {
   "cell_type": "code",
   "execution_count": null,
   "metadata": {},
   "outputs": [],
   "source": [
    "first_column = year_df_3.pop('FIRE_YEAR')\n",
    "year_df_3.insert(0, 'FIRE_YEAR', first_column)\n",
    "\n",
    "year_df_3"
   ]
  },
  {
   "cell_type": "code",
   "execution_count": null,
   "metadata": {},
   "outputs": [],
   "source": [
    "year_df_3[\"RUNNING_COUNT_SIZE\"] = year_df_3[\"FIRE_SIZE\"].cumsum(axis = 0) \n",
    "year_df_3[\"RUNNING_COUNT_FIRES\"] = year_df_3[\"COUNT_FIRES\"].cumsum(axis = 0) \n",
    "year_df_3[\"PRIOR_RUNNING_SIZE\"] = year_df_3[\"RUNNING_COUNT_SIZE\"] - year_df_3[\"FIRE_SIZE\"]\n",
    "year_df_3[\"PRIOR_RUNNING_COUNT\"] = year_df_3[\"RUNNING_COUNT_FIRES\"] - year_df_3[\"COUNT_FIRES\"]\n",
    "year_running_df = year_df_3\n",
    "year_running_df"
   ]
  },
  {
   "cell_type": "code",
   "execution_count": null,
   "metadata": {},
   "outputs": [],
   "source": [
    "fire_size_count_year_all_state_df = year_df_1.append(year_df_3)\n",
    "fire_size_count_year_all_state_df"
   ]
  },
  {
   "cell_type": "code",
   "execution_count": null,
   "metadata": {},
   "outputs": [],
   "source": [
    "\n"
   ]
  },
  {
   "cell_type": "code",
   "execution_count": null,
   "metadata": {},
   "outputs": [],
   "source": [
    "# exporting total fires by year by state\n",
    "output_path_fires_year_state = \"output/total_fires_yearly_by_state.csv\"\n",
    "fire_size_count_year_all_state_df.to_csv(output_path_fires_year_state,index=False)"
   ]
  },
  {
   "cell_type": "code",
   "execution_count": null,
   "metadata": {},
   "outputs": [],
   "source": []
  }
 ]
}