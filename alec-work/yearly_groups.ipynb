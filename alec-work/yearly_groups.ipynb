{
 "metadata": {
  "language_info": {
   "codemirror_mode": {
    "name": "ipython",
    "version": 3
   },
   "file_extension": ".py",
   "mimetype": "text/x-python",
   "name": "python",
   "nbconvert_exporter": "python",
   "pygments_lexer": "ipython3",
   "version": "3.8.5"
  },
  "orig_nbformat": 2,
  "kernelspec": {
   "name": "python385jvsc74a57bd0006b2a4c59105e151f59d7a783e9669671dc3b315a85df72952575de8c58cde6",
   "display_name": "Python 3.8.5 64-bit ('base': conda)"
  }
 },
 "nbformat": 4,
 "nbformat_minor": 2,
 "cells": [
  {
   "cell_type": "code",
   "execution_count": 2,
   "metadata": {},
   "outputs": [],
   "source": [
    "# Import Dependencies\n",
    "import pandas as pd\n",
    "import sqlalchemy\n",
    "from sqlalchemy.ext.automap import automap_base\n",
    "from sqlalchemy.orm import Session\n",
    "from sqlalchemy import create_engine, inspect, func"
   ]
  },
  {
   "cell_type": "code",
   "execution_count": 3,
   "metadata": {},
   "outputs": [],
   "source": [
    "# Create Engine for census data\n",
    "engine = create_engine(\"sqlite:///../../data/FPA_FOD_20170508.sqlite\")\n",
    "conn = engine.connect()"
   ]
  },
  {
   "cell_type": "code",
   "execution_count": 4,
   "metadata": {},
   "outputs": [],
   "source": [
    "# Query All Records in the the Fires Table\n",
    "fires_data = pd.read_sql(\"SELECT * FROM Fires\", conn)"
   ]
  },
  {
   "cell_type": "code",
   "execution_count": 5,
   "metadata": {},
   "outputs": [
    {
     "output_type": "execute_result",
     "data": {
      "text/plain": [
       "1880465"
      ]
     },
     "metadata": {},
     "execution_count": 5
    }
   ],
   "source": [
    "len(fires_data)"
   ]
  },
  {
   "cell_type": "code",
   "execution_count": 6,
   "metadata": {},
   "outputs": [
    {
     "output_type": "execute_result",
     "data": {
      "text/plain": [
       "   OBJECTID  FOD_ID      FPA_ID SOURCE_SYSTEM_TYPE SOURCE_SYSTEM  \\\n",
       "0         1       1  FS-1418826                FED   FS-FIRESTAT   \n",
       "1         2       2  FS-1418827                FED   FS-FIRESTAT   \n",
       "2         3       3  FS-1418835                FED   FS-FIRESTAT   \n",
       "3         4       4  FS-1418845                FED   FS-FIRESTAT   \n",
       "4         5       5  FS-1418847                FED   FS-FIRESTAT   \n",
       "5         6       6  FS-1418849                FED   FS-FIRESTAT   \n",
       "6         7       7  FS-1418851                FED   FS-FIRESTAT   \n",
       "7         8       8  FS-1418854                FED   FS-FIRESTAT   \n",
       "8         9       9  FS-1418856                FED   FS-FIRESTAT   \n",
       "9        10      10  FS-1418859                FED   FS-FIRESTAT   \n",
       "\n",
       "  NWCG_REPORTING_AGENCY NWCG_REPORTING_UNIT_ID  \\\n",
       "0                    FS                USCAPNF   \n",
       "1                    FS                USCAENF   \n",
       "2                    FS                USCAENF   \n",
       "3                    FS                USCAENF   \n",
       "4                    FS                USCAENF   \n",
       "5                    FS                USCAENF   \n",
       "6                    FS                USCAENF   \n",
       "7                    FS                USCASHF   \n",
       "8                    FS                USCASHF   \n",
       "9                    FS                USCAENF   \n",
       "\n",
       "         NWCG_REPORTING_UNIT_NAME SOURCE_REPORTING_UNIT  \\\n",
       "0          Plumas National Forest                  0511   \n",
       "1        Eldorado National Forest                  0503   \n",
       "2        Eldorado National Forest                  0503   \n",
       "3        Eldorado National Forest                  0503   \n",
       "4        Eldorado National Forest                  0503   \n",
       "5        Eldorado National Forest                  0503   \n",
       "6        Eldorado National Forest                  0503   \n",
       "7  Shasta-Trinity National Forest                  0514   \n",
       "8  Shasta-Trinity National Forest                  0514   \n",
       "9        Eldorado National Forest                  0503   \n",
       "\n",
       "       SOURCE_REPORTING_UNIT_NAME  ... FIRE_SIZE_CLASS   LATITUDE   LONGITUDE  \\\n",
       "0          Plumas National Forest  ...               A  40.036944 -121.005833   \n",
       "1        Eldorado National Forest  ...               A  38.933056 -120.404444   \n",
       "2        Eldorado National Forest  ...               A  38.984167 -120.735556   \n",
       "3        Eldorado National Forest  ...               A  38.559167 -119.913333   \n",
       "4        Eldorado National Forest  ...               A  38.559167 -119.933056   \n",
       "5        Eldorado National Forest  ...               A  38.635278 -120.103611   \n",
       "6        Eldorado National Forest  ...               A  38.688333 -120.153333   \n",
       "7  Shasta-Trinity National Forest  ...               B  40.968056 -122.433889   \n",
       "8  Shasta-Trinity National Forest  ...               B  41.233611 -122.283333   \n",
       "9        Eldorado National Forest  ...               A  38.548333 -120.149167   \n",
       "\n",
       "  OWNER_CODE       OWNER_DESCR STATE COUNTY FIPS_CODE  FIPS_NAME  \\\n",
       "0        5.0              USFS    CA     63       063     Plumas   \n",
       "1        5.0              USFS    CA     61       061     Placer   \n",
       "2       13.0  STATE OR PRIVATE    CA     17       017  El Dorado   \n",
       "3        5.0              USFS    CA      3       003     Alpine   \n",
       "4        5.0              USFS    CA      3       003     Alpine   \n",
       "5        5.0              USFS    CA      5       005     Amador   \n",
       "6        5.0              USFS    CA     17       017  El Dorado   \n",
       "7       13.0  STATE OR PRIVATE    CA   None      None       None   \n",
       "8       13.0  STATE OR PRIVATE    CA   None      None       None   \n",
       "9        5.0              USFS    CA      5       005     Amador   \n",
       "\n",
       "                                               Shape  \n",
       "0  b'\\x00\\x01\\xad\\x10\\x00\\x00\\xe8d\\xc2\\x92_@^\\xc0...  \n",
       "1  b'\\x00\\x01\\xad\\x10\\x00\\x00T\\xb6\\xeej\\xe2\\x19^\\...  \n",
       "2  b'\\x00\\x01\\xad\\x10\\x00\\x00\\xd0\\xa5\\xa0W\\x13/^\\...  \n",
       "3  b'\\x00\\x01\\xad\\x10\\x00\\x00\\x94\\xac\\xa3\\rt\\xfa]...  \n",
       "4  b'\\x00\\x01\\xad\\x10\\x00\\x00@\\xe3\\xaa.\\xb7\\xfb]\\...  \n",
       "5  b'\\x00\\x01\\xad\\x10\\x00\\x00\\xf0<~\\x90\\xa1\\x06^\\...  \n",
       "6  b'\\x00\\x01\\xad\\x10\\x00\\x00$o\\x996\\xd0\\t^\\xc0h\\...  \n",
       "7  b'\\x00\\x01\\xad\\x10\\x00\\x00t)\\xe8\\xd5\\xc4\\x9b^\\...  \n",
       "8  b'\\x00\\x01\\xad\\x10\\x00\\x00\\xdc\\x8d\\x1e\"\"\\x92^\\...  \n",
       "9  b'\\x00\\x01\\xad\\x10\\x00\\x00dS\\\\\\xf2\\x8b\\t^\\xc0\\...  \n",
       "\n",
       "[10 rows x 39 columns]"
      ],
      "text/html": "<div>\n<style scoped>\n    .dataframe tbody tr th:only-of-type {\n        vertical-align: middle;\n    }\n\n    .dataframe tbody tr th {\n        vertical-align: top;\n    }\n\n    .dataframe thead th {\n        text-align: right;\n    }\n</style>\n<table border=\"1\" class=\"dataframe\">\n  <thead>\n    <tr style=\"text-align: right;\">\n      <th></th>\n      <th>OBJECTID</th>\n      <th>FOD_ID</th>\n      <th>FPA_ID</th>\n      <th>SOURCE_SYSTEM_TYPE</th>\n      <th>SOURCE_SYSTEM</th>\n      <th>NWCG_REPORTING_AGENCY</th>\n      <th>NWCG_REPORTING_UNIT_ID</th>\n      <th>NWCG_REPORTING_UNIT_NAME</th>\n      <th>SOURCE_REPORTING_UNIT</th>\n      <th>SOURCE_REPORTING_UNIT_NAME</th>\n      <th>...</th>\n      <th>FIRE_SIZE_CLASS</th>\n      <th>LATITUDE</th>\n      <th>LONGITUDE</th>\n      <th>OWNER_CODE</th>\n      <th>OWNER_DESCR</th>\n      <th>STATE</th>\n      <th>COUNTY</th>\n      <th>FIPS_CODE</th>\n      <th>FIPS_NAME</th>\n      <th>Shape</th>\n    </tr>\n  </thead>\n  <tbody>\n    <tr>\n      <th>0</th>\n      <td>1</td>\n      <td>1</td>\n      <td>FS-1418826</td>\n      <td>FED</td>\n      <td>FS-FIRESTAT</td>\n      <td>FS</td>\n      <td>USCAPNF</td>\n      <td>Plumas National Forest</td>\n      <td>0511</td>\n      <td>Plumas National Forest</td>\n      <td>...</td>\n      <td>A</td>\n      <td>40.036944</td>\n      <td>-121.005833</td>\n      <td>5.0</td>\n      <td>USFS</td>\n      <td>CA</td>\n      <td>63</td>\n      <td>063</td>\n      <td>Plumas</td>\n      <td>b'\\x00\\x01\\xad\\x10\\x00\\x00\\xe8d\\xc2\\x92_@^\\xc0...</td>\n    </tr>\n    <tr>\n      <th>1</th>\n      <td>2</td>\n      <td>2</td>\n      <td>FS-1418827</td>\n      <td>FED</td>\n      <td>FS-FIRESTAT</td>\n      <td>FS</td>\n      <td>USCAENF</td>\n      <td>Eldorado National Forest</td>\n      <td>0503</td>\n      <td>Eldorado National Forest</td>\n      <td>...</td>\n      <td>A</td>\n      <td>38.933056</td>\n      <td>-120.404444</td>\n      <td>5.0</td>\n      <td>USFS</td>\n      <td>CA</td>\n      <td>61</td>\n      <td>061</td>\n      <td>Placer</td>\n      <td>b'\\x00\\x01\\xad\\x10\\x00\\x00T\\xb6\\xeej\\xe2\\x19^\\...</td>\n    </tr>\n    <tr>\n      <th>2</th>\n      <td>3</td>\n      <td>3</td>\n      <td>FS-1418835</td>\n      <td>FED</td>\n      <td>FS-FIRESTAT</td>\n      <td>FS</td>\n      <td>USCAENF</td>\n      <td>Eldorado National Forest</td>\n      <td>0503</td>\n      <td>Eldorado National Forest</td>\n      <td>...</td>\n      <td>A</td>\n      <td>38.984167</td>\n      <td>-120.735556</td>\n      <td>13.0</td>\n      <td>STATE OR PRIVATE</td>\n      <td>CA</td>\n      <td>17</td>\n      <td>017</td>\n      <td>El Dorado</td>\n      <td>b'\\x00\\x01\\xad\\x10\\x00\\x00\\xd0\\xa5\\xa0W\\x13/^\\...</td>\n    </tr>\n    <tr>\n      <th>3</th>\n      <td>4</td>\n      <td>4</td>\n      <td>FS-1418845</td>\n      <td>FED</td>\n      <td>FS-FIRESTAT</td>\n      <td>FS</td>\n      <td>USCAENF</td>\n      <td>Eldorado National Forest</td>\n      <td>0503</td>\n      <td>Eldorado National Forest</td>\n      <td>...</td>\n      <td>A</td>\n      <td>38.559167</td>\n      <td>-119.913333</td>\n      <td>5.0</td>\n      <td>USFS</td>\n      <td>CA</td>\n      <td>3</td>\n      <td>003</td>\n      <td>Alpine</td>\n      <td>b'\\x00\\x01\\xad\\x10\\x00\\x00\\x94\\xac\\xa3\\rt\\xfa]...</td>\n    </tr>\n    <tr>\n      <th>4</th>\n      <td>5</td>\n      <td>5</td>\n      <td>FS-1418847</td>\n      <td>FED</td>\n      <td>FS-FIRESTAT</td>\n      <td>FS</td>\n      <td>USCAENF</td>\n      <td>Eldorado National Forest</td>\n      <td>0503</td>\n      <td>Eldorado National Forest</td>\n      <td>...</td>\n      <td>A</td>\n      <td>38.559167</td>\n      <td>-119.933056</td>\n      <td>5.0</td>\n      <td>USFS</td>\n      <td>CA</td>\n      <td>3</td>\n      <td>003</td>\n      <td>Alpine</td>\n      <td>b'\\x00\\x01\\xad\\x10\\x00\\x00@\\xe3\\xaa.\\xb7\\xfb]\\...</td>\n    </tr>\n    <tr>\n      <th>5</th>\n      <td>6</td>\n      <td>6</td>\n      <td>FS-1418849</td>\n      <td>FED</td>\n      <td>FS-FIRESTAT</td>\n      <td>FS</td>\n      <td>USCAENF</td>\n      <td>Eldorado National Forest</td>\n      <td>0503</td>\n      <td>Eldorado National Forest</td>\n      <td>...</td>\n      <td>A</td>\n      <td>38.635278</td>\n      <td>-120.103611</td>\n      <td>5.0</td>\n      <td>USFS</td>\n      <td>CA</td>\n      <td>5</td>\n      <td>005</td>\n      <td>Amador</td>\n      <td>b'\\x00\\x01\\xad\\x10\\x00\\x00\\xf0&lt;~\\x90\\xa1\\x06^\\...</td>\n    </tr>\n    <tr>\n      <th>6</th>\n      <td>7</td>\n      <td>7</td>\n      <td>FS-1418851</td>\n      <td>FED</td>\n      <td>FS-FIRESTAT</td>\n      <td>FS</td>\n      <td>USCAENF</td>\n      <td>Eldorado National Forest</td>\n      <td>0503</td>\n      <td>Eldorado National Forest</td>\n      <td>...</td>\n      <td>A</td>\n      <td>38.688333</td>\n      <td>-120.153333</td>\n      <td>5.0</td>\n      <td>USFS</td>\n      <td>CA</td>\n      <td>17</td>\n      <td>017</td>\n      <td>El Dorado</td>\n      <td>b'\\x00\\x01\\xad\\x10\\x00\\x00$o\\x996\\xd0\\t^\\xc0h\\...</td>\n    </tr>\n    <tr>\n      <th>7</th>\n      <td>8</td>\n      <td>8</td>\n      <td>FS-1418854</td>\n      <td>FED</td>\n      <td>FS-FIRESTAT</td>\n      <td>FS</td>\n      <td>USCASHF</td>\n      <td>Shasta-Trinity National Forest</td>\n      <td>0514</td>\n      <td>Shasta-Trinity National Forest</td>\n      <td>...</td>\n      <td>B</td>\n      <td>40.968056</td>\n      <td>-122.433889</td>\n      <td>13.0</td>\n      <td>STATE OR PRIVATE</td>\n      <td>CA</td>\n      <td>None</td>\n      <td>None</td>\n      <td>None</td>\n      <td>b'\\x00\\x01\\xad\\x10\\x00\\x00t)\\xe8\\xd5\\xc4\\x9b^\\...</td>\n    </tr>\n    <tr>\n      <th>8</th>\n      <td>9</td>\n      <td>9</td>\n      <td>FS-1418856</td>\n      <td>FED</td>\n      <td>FS-FIRESTAT</td>\n      <td>FS</td>\n      <td>USCASHF</td>\n      <td>Shasta-Trinity National Forest</td>\n      <td>0514</td>\n      <td>Shasta-Trinity National Forest</td>\n      <td>...</td>\n      <td>B</td>\n      <td>41.233611</td>\n      <td>-122.283333</td>\n      <td>13.0</td>\n      <td>STATE OR PRIVATE</td>\n      <td>CA</td>\n      <td>None</td>\n      <td>None</td>\n      <td>None</td>\n      <td>b'\\x00\\x01\\xad\\x10\\x00\\x00\\xdc\\x8d\\x1e\"\"\\x92^\\...</td>\n    </tr>\n    <tr>\n      <th>9</th>\n      <td>10</td>\n      <td>10</td>\n      <td>FS-1418859</td>\n      <td>FED</td>\n      <td>FS-FIRESTAT</td>\n      <td>FS</td>\n      <td>USCAENF</td>\n      <td>Eldorado National Forest</td>\n      <td>0503</td>\n      <td>Eldorado National Forest</td>\n      <td>...</td>\n      <td>A</td>\n      <td>38.548333</td>\n      <td>-120.149167</td>\n      <td>5.0</td>\n      <td>USFS</td>\n      <td>CA</td>\n      <td>5</td>\n      <td>005</td>\n      <td>Amador</td>\n      <td>b'\\x00\\x01\\xad\\x10\\x00\\x00dS\\\\\\xf2\\x8b\\t^\\xc0\\...</td>\n    </tr>\n  </tbody>\n</table>\n<p>10 rows × 39 columns</p>\n</div>"
     },
     "metadata": {},
     "execution_count": 6
    }
   ],
   "source": [
    "fires_data.head(10)"
   ]
  },
  {
   "cell_type": "code",
   "execution_count": 7,
   "metadata": {},
   "outputs": [
    {
     "output_type": "execute_result",
     "data": {
      "text/plain": [
       "   OBJECTID  FIRE_YEAR  DISCOVERY_DATE STATE  FIRE_SIZE FIRE_SIZE_CLASS\n",
       "0         1       2005       2453403.5    CA       0.10               A\n",
       "1         2       2004       2453137.5    CA       0.25               A\n",
       "2         3       2004       2453156.5    CA       0.10               A\n",
       "3         4       2004       2453184.5    CA       0.10               A\n",
       "4         5       2004       2453184.5    CA       0.10               A\n",
       "5         6       2004       2453186.5    CA       0.10               A\n",
       "6         7       2004       2453187.5    CA       0.10               A\n",
       "7         8       2005       2453437.5    CA       0.80               B\n",
       "8         9       2005       2453444.5    CA       1.00               B\n",
       "9        10       2004       2453187.5    CA       0.10               A"
      ],
      "text/html": "<div>\n<style scoped>\n    .dataframe tbody tr th:only-of-type {\n        vertical-align: middle;\n    }\n\n    .dataframe tbody tr th {\n        vertical-align: top;\n    }\n\n    .dataframe thead th {\n        text-align: right;\n    }\n</style>\n<table border=\"1\" class=\"dataframe\">\n  <thead>\n    <tr style=\"text-align: right;\">\n      <th></th>\n      <th>OBJECTID</th>\n      <th>FIRE_YEAR</th>\n      <th>DISCOVERY_DATE</th>\n      <th>STATE</th>\n      <th>FIRE_SIZE</th>\n      <th>FIRE_SIZE_CLASS</th>\n    </tr>\n  </thead>\n  <tbody>\n    <tr>\n      <th>0</th>\n      <td>1</td>\n      <td>2005</td>\n      <td>2453403.5</td>\n      <td>CA</td>\n      <td>0.10</td>\n      <td>A</td>\n    </tr>\n    <tr>\n      <th>1</th>\n      <td>2</td>\n      <td>2004</td>\n      <td>2453137.5</td>\n      <td>CA</td>\n      <td>0.25</td>\n      <td>A</td>\n    </tr>\n    <tr>\n      <th>2</th>\n      <td>3</td>\n      <td>2004</td>\n      <td>2453156.5</td>\n      <td>CA</td>\n      <td>0.10</td>\n      <td>A</td>\n    </tr>\n    <tr>\n      <th>3</th>\n      <td>4</td>\n      <td>2004</td>\n      <td>2453184.5</td>\n      <td>CA</td>\n      <td>0.10</td>\n      <td>A</td>\n    </tr>\n    <tr>\n      <th>4</th>\n      <td>5</td>\n      <td>2004</td>\n      <td>2453184.5</td>\n      <td>CA</td>\n      <td>0.10</td>\n      <td>A</td>\n    </tr>\n    <tr>\n      <th>5</th>\n      <td>6</td>\n      <td>2004</td>\n      <td>2453186.5</td>\n      <td>CA</td>\n      <td>0.10</td>\n      <td>A</td>\n    </tr>\n    <tr>\n      <th>6</th>\n      <td>7</td>\n      <td>2004</td>\n      <td>2453187.5</td>\n      <td>CA</td>\n      <td>0.10</td>\n      <td>A</td>\n    </tr>\n    <tr>\n      <th>7</th>\n      <td>8</td>\n      <td>2005</td>\n      <td>2453437.5</td>\n      <td>CA</td>\n      <td>0.80</td>\n      <td>B</td>\n    </tr>\n    <tr>\n      <th>8</th>\n      <td>9</td>\n      <td>2005</td>\n      <td>2453444.5</td>\n      <td>CA</td>\n      <td>1.00</td>\n      <td>B</td>\n    </tr>\n    <tr>\n      <th>9</th>\n      <td>10</td>\n      <td>2004</td>\n      <td>2453187.5</td>\n      <td>CA</td>\n      <td>0.10</td>\n      <td>A</td>\n    </tr>\n  </tbody>\n</table>\n</div>"
     },
     "metadata": {},
     "execution_count": 7
    }
   ],
   "source": [
    "fires_data_trimmed = fires_data[[\"OBJECTID\",\"FIRE_YEAR\",\"DISCOVERY_DATE\",\"STATE\"\n",
    "                                    ,\"FIRE_SIZE\",\"FIRE_SIZE_CLASS\"]]\n",
    "fires_data_trimmed.head(10)"
   ]
  },
  {
   "cell_type": "code",
   "execution_count": 8,
   "metadata": {},
   "outputs": [
    {
     "output_type": "stream",
     "name": "stderr",
     "text": [
      "<ipython-input-8-71ef12ffd381>:2: SettingWithCopyWarning: \nA value is trying to be set on a copy of a slice from a DataFrame.\nTry using .loc[row_indexer,col_indexer] = value instead\n\nSee the caveats in the documentation: https://pandas.pydata.org/pandas-docs/stable/user_guide/indexing.html#returning-a-view-versus-a-copy\n  fires_data_trimmed[\"DISCOVERY_DATE\"] = pd.to_datetime(fires_data_trimmed[\"DISCOVERY_DATE\"] - epoch, unit='D')\n"
     ]
    }
   ],
   "source": [
    "epoch = pd.to_datetime(0, unit='s').to_julian_date()\n",
    "fires_data_trimmed[\"DISCOVERY_DATE\"] = pd.to_datetime(fires_data_trimmed[\"DISCOVERY_DATE\"] - epoch, unit='D')\n",
    "fires_data_trimmed_converted = fires_data_trimmed"
   ]
  },
  {
   "cell_type": "code",
   "execution_count": 9,
   "metadata": {},
   "outputs": [
    {
     "output_type": "stream",
     "name": "stdout",
     "text": [
      "1880465\n"
     ]
    },
    {
     "output_type": "execute_result",
     "data": {
      "text/plain": [
       "   OBJECTID  FIRE_YEAR DISCOVERY_DATE STATE  FIRE_SIZE FIRE_SIZE_CLASS\n",
       "0         1       2005     2005-02-02    CA       0.10               A\n",
       "1         2       2004     2004-05-12    CA       0.25               A\n",
       "2         3       2004     2004-05-31    CA       0.10               A\n",
       "3         4       2004     2004-06-28    CA       0.10               A\n",
       "4         5       2004     2004-06-28    CA       0.10               A"
      ],
      "text/html": "<div>\n<style scoped>\n    .dataframe tbody tr th:only-of-type {\n        vertical-align: middle;\n    }\n\n    .dataframe tbody tr th {\n        vertical-align: top;\n    }\n\n    .dataframe thead th {\n        text-align: right;\n    }\n</style>\n<table border=\"1\" class=\"dataframe\">\n  <thead>\n    <tr style=\"text-align: right;\">\n      <th></th>\n      <th>OBJECTID</th>\n      <th>FIRE_YEAR</th>\n      <th>DISCOVERY_DATE</th>\n      <th>STATE</th>\n      <th>FIRE_SIZE</th>\n      <th>FIRE_SIZE_CLASS</th>\n    </tr>\n  </thead>\n  <tbody>\n    <tr>\n      <th>0</th>\n      <td>1</td>\n      <td>2005</td>\n      <td>2005-02-02</td>\n      <td>CA</td>\n      <td>0.10</td>\n      <td>A</td>\n    </tr>\n    <tr>\n      <th>1</th>\n      <td>2</td>\n      <td>2004</td>\n      <td>2004-05-12</td>\n      <td>CA</td>\n      <td>0.25</td>\n      <td>A</td>\n    </tr>\n    <tr>\n      <th>2</th>\n      <td>3</td>\n      <td>2004</td>\n      <td>2004-05-31</td>\n      <td>CA</td>\n      <td>0.10</td>\n      <td>A</td>\n    </tr>\n    <tr>\n      <th>3</th>\n      <td>4</td>\n      <td>2004</td>\n      <td>2004-06-28</td>\n      <td>CA</td>\n      <td>0.10</td>\n      <td>A</td>\n    </tr>\n    <tr>\n      <th>4</th>\n      <td>5</td>\n      <td>2004</td>\n      <td>2004-06-28</td>\n      <td>CA</td>\n      <td>0.10</td>\n      <td>A</td>\n    </tr>\n  </tbody>\n</table>\n</div>"
     },
     "metadata": {},
     "execution_count": 9
    }
   ],
   "source": [
    "fires_data_yearly_df = pd.DataFrame(fires_data_trimmed_converted)\n",
    "print(len(fires_data_yearly_df))\n",
    "fires_data_yearly_df.head(5) \n"
   ]
  },
  {
   "cell_type": "code",
   "execution_count": 10,
   "metadata": {},
   "outputs": [
    {
     "output_type": "execute_result",
     "data": {
      "text/plain": [
       "<pandas.core.groupby.generic.DataFrameGroupBy object at 0x000001C2DD31A4C0>"
      ]
     },
     "metadata": {},
     "execution_count": 10
    }
   ],
   "source": [
    "# grouping by year\n",
    "year_group = fires_data_yearly_df.groupby(['FIRE_YEAR'])\n",
    "year_group"
   ]
  },
  {
   "cell_type": "code",
   "execution_count": 11,
   "metadata": {},
   "outputs": [
    {
     "output_type": "execute_result",
     "data": {
      "text/plain": [
       "<pandas.core.groupby.generic.DataFrameGroupBy object at 0x000001C23FE38610>"
      ]
     },
     "metadata": {},
     "execution_count": 11
    }
   ],
   "source": [
    "# grouping by year & state\n",
    "year_state_group = fires_data_yearly_df.groupby(['FIRE_YEAR','STATE'])\n",
    "year_state_group"
   ]
  },
  {
   "cell_type": "code",
   "execution_count": 12,
   "metadata": {},
   "outputs": [
    {
     "output_type": "execute_result",
     "data": {
      "text/plain": [
       "           COUNT_FIRES\n",
       "FIRE_YEAR             \n",
       "1992             67975\n",
       "1993             61989\n",
       "1994             75955\n",
       "1995             71472\n",
       "1996             75574\n",
       "1997             61450\n",
       "1998             68370\n",
       "1999             89363\n",
       "2000             96416\n",
       "2001             86587\n",
       "2002             75656\n",
       "2003             68261\n",
       "2004             69279\n",
       "2005             88604\n",
       "2006            114004\n",
       "2007             95573\n",
       "2008             85378\n",
       "2009             78325\n",
       "2010             79889\n",
       "2011             90552\n",
       "2012             72769\n",
       "2013             64780\n",
       "2014             67753\n",
       "2015             74491"
      ],
      "text/html": "<div>\n<style scoped>\n    .dataframe tbody tr th:only-of-type {\n        vertical-align: middle;\n    }\n\n    .dataframe tbody tr th {\n        vertical-align: top;\n    }\n\n    .dataframe thead th {\n        text-align: right;\n    }\n</style>\n<table border=\"1\" class=\"dataframe\">\n  <thead>\n    <tr style=\"text-align: right;\">\n      <th></th>\n      <th>COUNT_FIRES</th>\n    </tr>\n    <tr>\n      <th>FIRE_YEAR</th>\n      <th></th>\n    </tr>\n  </thead>\n  <tbody>\n    <tr>\n      <th>1992</th>\n      <td>67975</td>\n    </tr>\n    <tr>\n      <th>1993</th>\n      <td>61989</td>\n    </tr>\n    <tr>\n      <th>1994</th>\n      <td>75955</td>\n    </tr>\n    <tr>\n      <th>1995</th>\n      <td>71472</td>\n    </tr>\n    <tr>\n      <th>1996</th>\n      <td>75574</td>\n    </tr>\n    <tr>\n      <th>1997</th>\n      <td>61450</td>\n    </tr>\n    <tr>\n      <th>1998</th>\n      <td>68370</td>\n    </tr>\n    <tr>\n      <th>1999</th>\n      <td>89363</td>\n    </tr>\n    <tr>\n      <th>2000</th>\n      <td>96416</td>\n    </tr>\n    <tr>\n      <th>2001</th>\n      <td>86587</td>\n    </tr>\n    <tr>\n      <th>2002</th>\n      <td>75656</td>\n    </tr>\n    <tr>\n      <th>2003</th>\n      <td>68261</td>\n    </tr>\n    <tr>\n      <th>2004</th>\n      <td>69279</td>\n    </tr>\n    <tr>\n      <th>2005</th>\n      <td>88604</td>\n    </tr>\n    <tr>\n      <th>2006</th>\n      <td>114004</td>\n    </tr>\n    <tr>\n      <th>2007</th>\n      <td>95573</td>\n    </tr>\n    <tr>\n      <th>2008</th>\n      <td>85378</td>\n    </tr>\n    <tr>\n      <th>2009</th>\n      <td>78325</td>\n    </tr>\n    <tr>\n      <th>2010</th>\n      <td>79889</td>\n    </tr>\n    <tr>\n      <th>2011</th>\n      <td>90552</td>\n    </tr>\n    <tr>\n      <th>2012</th>\n      <td>72769</td>\n    </tr>\n    <tr>\n      <th>2013</th>\n      <td>64780</td>\n    </tr>\n    <tr>\n      <th>2014</th>\n      <td>67753</td>\n    </tr>\n    <tr>\n      <th>2015</th>\n      <td>74491</td>\n    </tr>\n  </tbody>\n</table>\n</div>"
     },
     "metadata": {},
     "execution_count": 12
    }
   ],
   "source": [
    "# total fires by year\n",
    "total_fires_year = year_group['OBJECTID'].count()\n",
    "total_fires_year_df = pd.DataFrame(total_fires_year).rename(columns={\"OBJECTID\": \"COUNT_FIRES\"})\n",
    "total_fires_year_df"
   ]
  },
  {
   "cell_type": "code",
   "execution_count": 13,
   "metadata": {},
   "outputs": [
    {
     "output_type": "execute_result",
     "data": {
      "text/plain": [
       "                 COUNT_FIRES\n",
       "FIRE_YEAR STATE             \n",
       "1992      AK             481\n",
       "          AL              93\n",
       "          AR             128\n",
       "          AZ            3494\n",
       "          CA           10833\n",
       "...                      ...\n",
       "2015      VT              87\n",
       "          WA            1741\n",
       "          WI             965\n",
       "          WV             685\n",
       "          WY             632\n",
       "\n",
       "[1214 rows x 1 columns]"
      ],
      "text/html": "<div>\n<style scoped>\n    .dataframe tbody tr th:only-of-type {\n        vertical-align: middle;\n    }\n\n    .dataframe tbody tr th {\n        vertical-align: top;\n    }\n\n    .dataframe thead th {\n        text-align: right;\n    }\n</style>\n<table border=\"1\" class=\"dataframe\">\n  <thead>\n    <tr style=\"text-align: right;\">\n      <th></th>\n      <th></th>\n      <th>COUNT_FIRES</th>\n    </tr>\n    <tr>\n      <th>FIRE_YEAR</th>\n      <th>STATE</th>\n      <th></th>\n    </tr>\n  </thead>\n  <tbody>\n    <tr>\n      <th rowspan=\"5\" valign=\"top\">1992</th>\n      <th>AK</th>\n      <td>481</td>\n    </tr>\n    <tr>\n      <th>AL</th>\n      <td>93</td>\n    </tr>\n    <tr>\n      <th>AR</th>\n      <td>128</td>\n    </tr>\n    <tr>\n      <th>AZ</th>\n      <td>3494</td>\n    </tr>\n    <tr>\n      <th>CA</th>\n      <td>10833</td>\n    </tr>\n    <tr>\n      <th>...</th>\n      <th>...</th>\n      <td>...</td>\n    </tr>\n    <tr>\n      <th rowspan=\"5\" valign=\"top\">2015</th>\n      <th>VT</th>\n      <td>87</td>\n    </tr>\n    <tr>\n      <th>WA</th>\n      <td>1741</td>\n    </tr>\n    <tr>\n      <th>WI</th>\n      <td>965</td>\n    </tr>\n    <tr>\n      <th>WV</th>\n      <td>685</td>\n    </tr>\n    <tr>\n      <th>WY</th>\n      <td>632</td>\n    </tr>\n  </tbody>\n</table>\n<p>1214 rows × 1 columns</p>\n</div>"
     },
     "metadata": {},
     "execution_count": 13
    }
   ],
   "source": [
    "# total fires by year by state\n",
    "total_fires_year_state = year_state_group['OBJECTID'].count()\n",
    "total_fires_year_state_df = pd.DataFrame(total_fires_year_state).rename(columns={\"OBJECTID\": \"COUNT_FIRES\"})\n",
    "total_fires_year_state_df"
   ]
  },
  {
   "cell_type": "code",
   "execution_count": 14,
   "metadata": {},
   "outputs": [
    {
     "output_type": "execute_result",
     "data": {
      "text/plain": [
       "              FIRE_SIZE\n",
       "FIRE_YEAR              \n",
       "1992       2.199958e+06\n",
       "1993       2.191696e+06\n",
       "1994       4.116676e+06\n",
       "1995       2.049585e+06\n",
       "1996       6.005156e+06\n",
       "1997       3.214635e+06\n",
       "1998       2.011102e+06\n",
       "1999       6.080200e+06\n",
       "2000       7.639499e+06\n",
       "2001       3.724072e+06\n",
       "2002       6.803258e+06\n",
       "2003       4.483573e+06\n",
       "2004       8.234208e+06\n",
       "2005       9.665105e+06\n",
       "2006       1.004350e+07\n",
       "2007       9.265429e+06\n",
       "2008       5.406532e+06\n",
       "2009       6.057166e+06\n",
       "2010       3.493455e+06\n",
       "2011       9.623597e+06\n",
       "2012       9.439888e+06\n",
       "2013       4.492502e+06\n",
       "2014       3.673490e+06\n",
       "2015       1.021827e+07"
      ],
      "text/html": "<div>\n<style scoped>\n    .dataframe tbody tr th:only-of-type {\n        vertical-align: middle;\n    }\n\n    .dataframe tbody tr th {\n        vertical-align: top;\n    }\n\n    .dataframe thead th {\n        text-align: right;\n    }\n</style>\n<table border=\"1\" class=\"dataframe\">\n  <thead>\n    <tr style=\"text-align: right;\">\n      <th></th>\n      <th>FIRE_SIZE</th>\n    </tr>\n    <tr>\n      <th>FIRE_YEAR</th>\n      <th></th>\n    </tr>\n  </thead>\n  <tbody>\n    <tr>\n      <th>1992</th>\n      <td>2.199958e+06</td>\n    </tr>\n    <tr>\n      <th>1993</th>\n      <td>2.191696e+06</td>\n    </tr>\n    <tr>\n      <th>1994</th>\n      <td>4.116676e+06</td>\n    </tr>\n    <tr>\n      <th>1995</th>\n      <td>2.049585e+06</td>\n    </tr>\n    <tr>\n      <th>1996</th>\n      <td>6.005156e+06</td>\n    </tr>\n    <tr>\n      <th>1997</th>\n      <td>3.214635e+06</td>\n    </tr>\n    <tr>\n      <th>1998</th>\n      <td>2.011102e+06</td>\n    </tr>\n    <tr>\n      <th>1999</th>\n      <td>6.080200e+06</td>\n    </tr>\n    <tr>\n      <th>2000</th>\n      <td>7.639499e+06</td>\n    </tr>\n    <tr>\n      <th>2001</th>\n      <td>3.724072e+06</td>\n    </tr>\n    <tr>\n      <th>2002</th>\n      <td>6.803258e+06</td>\n    </tr>\n    <tr>\n      <th>2003</th>\n      <td>4.483573e+06</td>\n    </tr>\n    <tr>\n      <th>2004</th>\n      <td>8.234208e+06</td>\n    </tr>\n    <tr>\n      <th>2005</th>\n      <td>9.665105e+06</td>\n    </tr>\n    <tr>\n      <th>2006</th>\n      <td>1.004350e+07</td>\n    </tr>\n    <tr>\n      <th>2007</th>\n      <td>9.265429e+06</td>\n    </tr>\n    <tr>\n      <th>2008</th>\n      <td>5.406532e+06</td>\n    </tr>\n    <tr>\n      <th>2009</th>\n      <td>6.057166e+06</td>\n    </tr>\n    <tr>\n      <th>2010</th>\n      <td>3.493455e+06</td>\n    </tr>\n    <tr>\n      <th>2011</th>\n      <td>9.623597e+06</td>\n    </tr>\n    <tr>\n      <th>2012</th>\n      <td>9.439888e+06</td>\n    </tr>\n    <tr>\n      <th>2013</th>\n      <td>4.492502e+06</td>\n    </tr>\n    <tr>\n      <th>2014</th>\n      <td>3.673490e+06</td>\n    </tr>\n    <tr>\n      <th>2015</th>\n      <td>1.021827e+07</td>\n    </tr>\n  </tbody>\n</table>\n</div>"
     },
     "metadata": {},
     "execution_count": 14
    }
   ],
   "source": [
    "# total fire size by year\n",
    "total_fire_size_year = year_group['FIRE_SIZE'].sum()\n",
    "total_fire_size_year_df = pd.DataFrame(total_fire_size_year)\n",
    "total_fire_size_year_df"
   ]
  },
  {
   "cell_type": "code",
   "execution_count": 15,
   "metadata": {},
   "outputs": [
    {
     "output_type": "execute_result",
     "data": {
      "text/plain": [
       "                   FIRE_SIZE\n",
       "FIRE_YEAR STATE             \n",
       "1992      AK      142717.400\n",
       "          AL        1253.200\n",
       "          AR        1478.500\n",
       "          AZ       42593.650\n",
       "          CA      296439.800\n",
       "...                      ...\n",
       "2015      VT         346.429\n",
       "          WA     1161646.380\n",
       "          WI        2721.440\n",
       "          WV       17251.370\n",
       "          WY       36821.225\n",
       "\n",
       "[1214 rows x 1 columns]"
      ],
      "text/html": "<div>\n<style scoped>\n    .dataframe tbody tr th:only-of-type {\n        vertical-align: middle;\n    }\n\n    .dataframe tbody tr th {\n        vertical-align: top;\n    }\n\n    .dataframe thead th {\n        text-align: right;\n    }\n</style>\n<table border=\"1\" class=\"dataframe\">\n  <thead>\n    <tr style=\"text-align: right;\">\n      <th></th>\n      <th></th>\n      <th>FIRE_SIZE</th>\n    </tr>\n    <tr>\n      <th>FIRE_YEAR</th>\n      <th>STATE</th>\n      <th></th>\n    </tr>\n  </thead>\n  <tbody>\n    <tr>\n      <th rowspan=\"5\" valign=\"top\">1992</th>\n      <th>AK</th>\n      <td>142717.400</td>\n    </tr>\n    <tr>\n      <th>AL</th>\n      <td>1253.200</td>\n    </tr>\n    <tr>\n      <th>AR</th>\n      <td>1478.500</td>\n    </tr>\n    <tr>\n      <th>AZ</th>\n      <td>42593.650</td>\n    </tr>\n    <tr>\n      <th>CA</th>\n      <td>296439.800</td>\n    </tr>\n    <tr>\n      <th>...</th>\n      <th>...</th>\n      <td>...</td>\n    </tr>\n    <tr>\n      <th rowspan=\"5\" valign=\"top\">2015</th>\n      <th>VT</th>\n      <td>346.429</td>\n    </tr>\n    <tr>\n      <th>WA</th>\n      <td>1161646.380</td>\n    </tr>\n    <tr>\n      <th>WI</th>\n      <td>2721.440</td>\n    </tr>\n    <tr>\n      <th>WV</th>\n      <td>17251.370</td>\n    </tr>\n    <tr>\n      <th>WY</th>\n      <td>36821.225</td>\n    </tr>\n  </tbody>\n</table>\n<p>1214 rows × 1 columns</p>\n</div>"
     },
     "metadata": {},
     "execution_count": 15
    }
   ],
   "source": [
    "# total fire size by year by state\n",
    "total_fire_size_year_state = year_state_group['FIRE_SIZE'].sum()\n",
    "total_fire_size_year_state_df = pd.DataFrame(total_fire_size_year_state)\n",
    "total_fire_size_year_state_df"
   ]
  },
  {
   "cell_type": "code",
   "execution_count": 16,
   "metadata": {},
   "outputs": [
    {
     "output_type": "execute_result",
     "data": {
      "text/plain": [
       "                   FIRE_SIZE  COUNT_FIRES\n",
       "FIRE_YEAR STATE                          \n",
       "1992      AK      142717.400          481\n",
       "          AL        1253.200           93\n",
       "          AR        1478.500          128\n",
       "          AZ       42593.650         3494\n",
       "          CA      296439.800        10833\n",
       "...                      ...          ...\n",
       "2015      VT         346.429           87\n",
       "          WA     1161646.380         1741\n",
       "          WI        2721.440          965\n",
       "          WV       17251.370          685\n",
       "          WY       36821.225          632\n",
       "\n",
       "[1214 rows x 2 columns]"
      ],
      "text/html": "<div>\n<style scoped>\n    .dataframe tbody tr th:only-of-type {\n        vertical-align: middle;\n    }\n\n    .dataframe tbody tr th {\n        vertical-align: top;\n    }\n\n    .dataframe thead th {\n        text-align: right;\n    }\n</style>\n<table border=\"1\" class=\"dataframe\">\n  <thead>\n    <tr style=\"text-align: right;\">\n      <th></th>\n      <th></th>\n      <th>FIRE_SIZE</th>\n      <th>COUNT_FIRES</th>\n    </tr>\n    <tr>\n      <th>FIRE_YEAR</th>\n      <th>STATE</th>\n      <th></th>\n      <th></th>\n    </tr>\n  </thead>\n  <tbody>\n    <tr>\n      <th rowspan=\"5\" valign=\"top\">1992</th>\n      <th>AK</th>\n      <td>142717.400</td>\n      <td>481</td>\n    </tr>\n    <tr>\n      <th>AL</th>\n      <td>1253.200</td>\n      <td>93</td>\n    </tr>\n    <tr>\n      <th>AR</th>\n      <td>1478.500</td>\n      <td>128</td>\n    </tr>\n    <tr>\n      <th>AZ</th>\n      <td>42593.650</td>\n      <td>3494</td>\n    </tr>\n    <tr>\n      <th>CA</th>\n      <td>296439.800</td>\n      <td>10833</td>\n    </tr>\n    <tr>\n      <th>...</th>\n      <th>...</th>\n      <td>...</td>\n      <td>...</td>\n    </tr>\n    <tr>\n      <th rowspan=\"5\" valign=\"top\">2015</th>\n      <th>VT</th>\n      <td>346.429</td>\n      <td>87</td>\n    </tr>\n    <tr>\n      <th>WA</th>\n      <td>1161646.380</td>\n      <td>1741</td>\n    </tr>\n    <tr>\n      <th>WI</th>\n      <td>2721.440</td>\n      <td>965</td>\n    </tr>\n    <tr>\n      <th>WV</th>\n      <td>17251.370</td>\n      <td>685</td>\n    </tr>\n    <tr>\n      <th>WY</th>\n      <td>36821.225</td>\n      <td>632</td>\n    </tr>\n  </tbody>\n</table>\n<p>1214 rows × 2 columns</p>\n</div>"
     },
     "metadata": {},
     "execution_count": 16
    }
   ],
   "source": [
    "# merging count of fires and sum of size dataframes\n",
    "fire_size_count_year_state = total_fire_size_year_state_df.merge(total_fires_year_state_df\n",
    "                                    ,left_index=True,right_index=True)\n",
    "fire_size_count_year_state_df = pd.DataFrame(fire_size_count_year_state)\n",
    "fire_size_count_year_state_df"
   ]
  },
  {
   "cell_type": "code",
   "execution_count": 17,
   "metadata": {},
   "outputs": [
    {
     "output_type": "execute_result",
     "data": {
      "text/plain": [
       "                   FIRE_SIZE  COUNT_FIRES  AVG_FIRE_SIZE\n",
       "FIRE_YEAR STATE                                         \n",
       "1992      AK      142717.400          481     296.709771\n",
       "          AL        1253.200           93      13.475269\n",
       "          AR        1478.500          128      11.550781\n",
       "          AZ       42593.650         3494      12.190512\n",
       "          CA      296439.800        10833      27.364516\n",
       "...                      ...          ...            ...\n",
       "2015      VT         346.429           87       3.981943\n",
       "          WA     1161646.380         1741     667.229397\n",
       "          WI        2721.440          965       2.820145\n",
       "          WV       17251.370          685      25.184482\n",
       "          WY       36821.225          632      58.261432\n",
       "\n",
       "[1214 rows x 3 columns]"
      ],
      "text/html": "<div>\n<style scoped>\n    .dataframe tbody tr th:only-of-type {\n        vertical-align: middle;\n    }\n\n    .dataframe tbody tr th {\n        vertical-align: top;\n    }\n\n    .dataframe thead th {\n        text-align: right;\n    }\n</style>\n<table border=\"1\" class=\"dataframe\">\n  <thead>\n    <tr style=\"text-align: right;\">\n      <th></th>\n      <th></th>\n      <th>FIRE_SIZE</th>\n      <th>COUNT_FIRES</th>\n      <th>AVG_FIRE_SIZE</th>\n    </tr>\n    <tr>\n      <th>FIRE_YEAR</th>\n      <th>STATE</th>\n      <th></th>\n      <th></th>\n      <th></th>\n    </tr>\n  </thead>\n  <tbody>\n    <tr>\n      <th rowspan=\"5\" valign=\"top\">1992</th>\n      <th>AK</th>\n      <td>142717.400</td>\n      <td>481</td>\n      <td>296.709771</td>\n    </tr>\n    <tr>\n      <th>AL</th>\n      <td>1253.200</td>\n      <td>93</td>\n      <td>13.475269</td>\n    </tr>\n    <tr>\n      <th>AR</th>\n      <td>1478.500</td>\n      <td>128</td>\n      <td>11.550781</td>\n    </tr>\n    <tr>\n      <th>AZ</th>\n      <td>42593.650</td>\n      <td>3494</td>\n      <td>12.190512</td>\n    </tr>\n    <tr>\n      <th>CA</th>\n      <td>296439.800</td>\n      <td>10833</td>\n      <td>27.364516</td>\n    </tr>\n    <tr>\n      <th>...</th>\n      <th>...</th>\n      <td>...</td>\n      <td>...</td>\n      <td>...</td>\n    </tr>\n    <tr>\n      <th rowspan=\"5\" valign=\"top\">2015</th>\n      <th>VT</th>\n      <td>346.429</td>\n      <td>87</td>\n      <td>3.981943</td>\n    </tr>\n    <tr>\n      <th>WA</th>\n      <td>1161646.380</td>\n      <td>1741</td>\n      <td>667.229397</td>\n    </tr>\n    <tr>\n      <th>WI</th>\n      <td>2721.440</td>\n      <td>965</td>\n      <td>2.820145</td>\n    </tr>\n    <tr>\n      <th>WV</th>\n      <td>17251.370</td>\n      <td>685</td>\n      <td>25.184482</td>\n    </tr>\n    <tr>\n      <th>WY</th>\n      <td>36821.225</td>\n      <td>632</td>\n      <td>58.261432</td>\n    </tr>\n  </tbody>\n</table>\n<p>1214 rows × 3 columns</p>\n</div>"
     },
     "metadata": {},
     "execution_count": 17
    }
   ],
   "source": [
    "fire_size_count_year_state_df['AVG_FIRE_SIZE'] = fire_size_count_year_state_df['FIRE_SIZE'] / fire_size_count_year_state_df['COUNT_FIRES']\n",
    "fire_size_count_year_state_df"
   ]
  },
  {
   "cell_type": "code",
   "execution_count": 39,
   "metadata": {},
   "outputs": [
    {
     "output_type": "execute_result",
     "data": {
      "text/plain": [
       "         STATE  FIRE_YEAR     FIRE_SIZE  COUNT_FIRES  AVG_FIRE_SIZE\n",
       "0   ALL STATES       1992  2.199958e+06        67975    2443.969367\n",
       "1   ALL STATES       1993  2.191696e+06        61989    2340.408942\n",
       "2   ALL STATES       1994  4.116676e+06        75955    4487.728201\n",
       "3   ALL STATES       1995  2.049585e+06        71472    3107.596271\n",
       "4   ALL STATES       1996  6.005156e+06        75574    8913.362023\n",
       "5   ALL STATES       1997  3.214635e+06        61450    4414.014638\n",
       "6   ALL STATES       1998  2.011102e+06        68370    3153.887602\n",
       "7   ALL STATES       1999  6.080200e+06        89363    9043.996600\n",
       "8   ALL STATES       2000  7.639499e+06        96416    7992.038578\n",
       "9   ALL STATES       2001  3.724072e+06        86587    2966.339729\n",
       "10  ALL STATES       2002  6.803258e+06        75656    7205.578898\n",
       "11  ALL STATES       2003  4.483573e+06        68261    3714.954668\n",
       "12  ALL STATES       2004  8.234208e+06        69279   10961.418469\n",
       "13  ALL STATES       2005  9.665105e+06        88604   11394.604668\n",
       "14  ALL STATES       2006  1.004350e+07       114004    6042.794027\n",
       "15  ALL STATES       2007  9.265429e+06        95573    6457.217413\n",
       "16  ALL STATES       2008  5.406532e+06        85378    3430.839016\n",
       "17  ALL STATES       2009  6.057166e+06        78325    7833.680008\n",
       "18  ALL STATES       2010  3.493455e+06        79889    4128.814024\n",
       "19  ALL STATES       2011  9.623597e+06        90552    6068.459407\n",
       "20  ALL STATES       2012  9.439888e+06        72769    7811.702607\n",
       "21  ALL STATES       2013  4.492502e+06        64780    4837.430019\n",
       "22  ALL STATES       2014  3.673490e+06        67753    3071.414718\n",
       "23  ALL STATES       2015  1.021827e+07        74491   10718.316038"
      ],
      "text/html": "<div>\n<style scoped>\n    .dataframe tbody tr th:only-of-type {\n        vertical-align: middle;\n    }\n\n    .dataframe tbody tr th {\n        vertical-align: top;\n    }\n\n    .dataframe thead th {\n        text-align: right;\n    }\n</style>\n<table border=\"1\" class=\"dataframe\">\n  <thead>\n    <tr style=\"text-align: right;\">\n      <th></th>\n      <th>STATE</th>\n      <th>FIRE_YEAR</th>\n      <th>FIRE_SIZE</th>\n      <th>COUNT_FIRES</th>\n      <th>AVG_FIRE_SIZE</th>\n    </tr>\n  </thead>\n  <tbody>\n    <tr>\n      <th>0</th>\n      <td>ALL STATES</td>\n      <td>1992</td>\n      <td>2.199958e+06</td>\n      <td>67975</td>\n      <td>2443.969367</td>\n    </tr>\n    <tr>\n      <th>1</th>\n      <td>ALL STATES</td>\n      <td>1993</td>\n      <td>2.191696e+06</td>\n      <td>61989</td>\n      <td>2340.408942</td>\n    </tr>\n    <tr>\n      <th>2</th>\n      <td>ALL STATES</td>\n      <td>1994</td>\n      <td>4.116676e+06</td>\n      <td>75955</td>\n      <td>4487.728201</td>\n    </tr>\n    <tr>\n      <th>3</th>\n      <td>ALL STATES</td>\n      <td>1995</td>\n      <td>2.049585e+06</td>\n      <td>71472</td>\n      <td>3107.596271</td>\n    </tr>\n    <tr>\n      <th>4</th>\n      <td>ALL STATES</td>\n      <td>1996</td>\n      <td>6.005156e+06</td>\n      <td>75574</td>\n      <td>8913.362023</td>\n    </tr>\n    <tr>\n      <th>5</th>\n      <td>ALL STATES</td>\n      <td>1997</td>\n      <td>3.214635e+06</td>\n      <td>61450</td>\n      <td>4414.014638</td>\n    </tr>\n    <tr>\n      <th>6</th>\n      <td>ALL STATES</td>\n      <td>1998</td>\n      <td>2.011102e+06</td>\n      <td>68370</td>\n      <td>3153.887602</td>\n    </tr>\n    <tr>\n      <th>7</th>\n      <td>ALL STATES</td>\n      <td>1999</td>\n      <td>6.080200e+06</td>\n      <td>89363</td>\n      <td>9043.996600</td>\n    </tr>\n    <tr>\n      <th>8</th>\n      <td>ALL STATES</td>\n      <td>2000</td>\n      <td>7.639499e+06</td>\n      <td>96416</td>\n      <td>7992.038578</td>\n    </tr>\n    <tr>\n      <th>9</th>\n      <td>ALL STATES</td>\n      <td>2001</td>\n      <td>3.724072e+06</td>\n      <td>86587</td>\n      <td>2966.339729</td>\n    </tr>\n    <tr>\n      <th>10</th>\n      <td>ALL STATES</td>\n      <td>2002</td>\n      <td>6.803258e+06</td>\n      <td>75656</td>\n      <td>7205.578898</td>\n    </tr>\n    <tr>\n      <th>11</th>\n      <td>ALL STATES</td>\n      <td>2003</td>\n      <td>4.483573e+06</td>\n      <td>68261</td>\n      <td>3714.954668</td>\n    </tr>\n    <tr>\n      <th>12</th>\n      <td>ALL STATES</td>\n      <td>2004</td>\n      <td>8.234208e+06</td>\n      <td>69279</td>\n      <td>10961.418469</td>\n    </tr>\n    <tr>\n      <th>13</th>\n      <td>ALL STATES</td>\n      <td>2005</td>\n      <td>9.665105e+06</td>\n      <td>88604</td>\n      <td>11394.604668</td>\n    </tr>\n    <tr>\n      <th>14</th>\n      <td>ALL STATES</td>\n      <td>2006</td>\n      <td>1.004350e+07</td>\n      <td>114004</td>\n      <td>6042.794027</td>\n    </tr>\n    <tr>\n      <th>15</th>\n      <td>ALL STATES</td>\n      <td>2007</td>\n      <td>9.265429e+06</td>\n      <td>95573</td>\n      <td>6457.217413</td>\n    </tr>\n    <tr>\n      <th>16</th>\n      <td>ALL STATES</td>\n      <td>2008</td>\n      <td>5.406532e+06</td>\n      <td>85378</td>\n      <td>3430.839016</td>\n    </tr>\n    <tr>\n      <th>17</th>\n      <td>ALL STATES</td>\n      <td>2009</td>\n      <td>6.057166e+06</td>\n      <td>78325</td>\n      <td>7833.680008</td>\n    </tr>\n    <tr>\n      <th>18</th>\n      <td>ALL STATES</td>\n      <td>2010</td>\n      <td>3.493455e+06</td>\n      <td>79889</td>\n      <td>4128.814024</td>\n    </tr>\n    <tr>\n      <th>19</th>\n      <td>ALL STATES</td>\n      <td>2011</td>\n      <td>9.623597e+06</td>\n      <td>90552</td>\n      <td>6068.459407</td>\n    </tr>\n    <tr>\n      <th>20</th>\n      <td>ALL STATES</td>\n      <td>2012</td>\n      <td>9.439888e+06</td>\n      <td>72769</td>\n      <td>7811.702607</td>\n    </tr>\n    <tr>\n      <th>21</th>\n      <td>ALL STATES</td>\n      <td>2013</td>\n      <td>4.492502e+06</td>\n      <td>64780</td>\n      <td>4837.430019</td>\n    </tr>\n    <tr>\n      <th>22</th>\n      <td>ALL STATES</td>\n      <td>2014</td>\n      <td>3.673490e+06</td>\n      <td>67753</td>\n      <td>3071.414718</td>\n    </tr>\n    <tr>\n      <th>23</th>\n      <td>ALL STATES</td>\n      <td>2015</td>\n      <td>1.021827e+07</td>\n      <td>74491</td>\n      <td>10718.316038</td>\n    </tr>\n  </tbody>\n</table>\n</div>"
     },
     "metadata": {},
     "execution_count": 39
    }
   ],
   "source": [
    "year_df_1 = fire_size_count_year_state_df.reset_index()\n",
    "year_df_2 = fire_size_count_year_state_df.groupby([\"FIRE_YEAR\"]).sum()\n",
    "year_df_2[\"STATE\"] = \"ALL STATES\"\n",
    "\n",
    "year_df_3 = year_df_2.reset_index()\n",
    "\n",
    "first_column = year_df_3.pop('STATE')\n",
    "year_df_3.insert(0, 'STATE', first_column)\n",
    "# year_df_4 = year_df_3.columns(\"FIRE_YEAR\",\"STATE\",\"FIRE_SIZE\",\"COUNT_FIRES\",\"AVG_FIRE_SIZE\")\n",
    "\n",
    "year_df_3"
   ]
  },
  {
   "cell_type": "code",
   "execution_count": 41,
   "metadata": {},
   "outputs": [
    {
     "output_type": "execute_result",
     "data": {
      "text/plain": [
       "    FIRE_YEAR       STATE     FIRE_SIZE  COUNT_FIRES  AVG_FIRE_SIZE\n",
       "0        1992  ALL STATES  2.199958e+06        67975    2443.969367\n",
       "1        1993  ALL STATES  2.191696e+06        61989    2340.408942\n",
       "2        1994  ALL STATES  4.116676e+06        75955    4487.728201\n",
       "3        1995  ALL STATES  2.049585e+06        71472    3107.596271\n",
       "4        1996  ALL STATES  6.005156e+06        75574    8913.362023\n",
       "5        1997  ALL STATES  3.214635e+06        61450    4414.014638\n",
       "6        1998  ALL STATES  2.011102e+06        68370    3153.887602\n",
       "7        1999  ALL STATES  6.080200e+06        89363    9043.996600\n",
       "8        2000  ALL STATES  7.639499e+06        96416    7992.038578\n",
       "9        2001  ALL STATES  3.724072e+06        86587    2966.339729\n",
       "10       2002  ALL STATES  6.803258e+06        75656    7205.578898\n",
       "11       2003  ALL STATES  4.483573e+06        68261    3714.954668\n",
       "12       2004  ALL STATES  8.234208e+06        69279   10961.418469\n",
       "13       2005  ALL STATES  9.665105e+06        88604   11394.604668\n",
       "14       2006  ALL STATES  1.004350e+07       114004    6042.794027\n",
       "15       2007  ALL STATES  9.265429e+06        95573    6457.217413\n",
       "16       2008  ALL STATES  5.406532e+06        85378    3430.839016\n",
       "17       2009  ALL STATES  6.057166e+06        78325    7833.680008\n",
       "18       2010  ALL STATES  3.493455e+06        79889    4128.814024\n",
       "19       2011  ALL STATES  9.623597e+06        90552    6068.459407\n",
       "20       2012  ALL STATES  9.439888e+06        72769    7811.702607\n",
       "21       2013  ALL STATES  4.492502e+06        64780    4837.430019\n",
       "22       2014  ALL STATES  3.673490e+06        67753    3071.414718\n",
       "23       2015  ALL STATES  1.021827e+07        74491   10718.316038"
      ],
      "text/html": "<div>\n<style scoped>\n    .dataframe tbody tr th:only-of-type {\n        vertical-align: middle;\n    }\n\n    .dataframe tbody tr th {\n        vertical-align: top;\n    }\n\n    .dataframe thead th {\n        text-align: right;\n    }\n</style>\n<table border=\"1\" class=\"dataframe\">\n  <thead>\n    <tr style=\"text-align: right;\">\n      <th></th>\n      <th>FIRE_YEAR</th>\n      <th>STATE</th>\n      <th>FIRE_SIZE</th>\n      <th>COUNT_FIRES</th>\n      <th>AVG_FIRE_SIZE</th>\n    </tr>\n  </thead>\n  <tbody>\n    <tr>\n      <th>0</th>\n      <td>1992</td>\n      <td>ALL STATES</td>\n      <td>2.199958e+06</td>\n      <td>67975</td>\n      <td>2443.969367</td>\n    </tr>\n    <tr>\n      <th>1</th>\n      <td>1993</td>\n      <td>ALL STATES</td>\n      <td>2.191696e+06</td>\n      <td>61989</td>\n      <td>2340.408942</td>\n    </tr>\n    <tr>\n      <th>2</th>\n      <td>1994</td>\n      <td>ALL STATES</td>\n      <td>4.116676e+06</td>\n      <td>75955</td>\n      <td>4487.728201</td>\n    </tr>\n    <tr>\n      <th>3</th>\n      <td>1995</td>\n      <td>ALL STATES</td>\n      <td>2.049585e+06</td>\n      <td>71472</td>\n      <td>3107.596271</td>\n    </tr>\n    <tr>\n      <th>4</th>\n      <td>1996</td>\n      <td>ALL STATES</td>\n      <td>6.005156e+06</td>\n      <td>75574</td>\n      <td>8913.362023</td>\n    </tr>\n    <tr>\n      <th>5</th>\n      <td>1997</td>\n      <td>ALL STATES</td>\n      <td>3.214635e+06</td>\n      <td>61450</td>\n      <td>4414.014638</td>\n    </tr>\n    <tr>\n      <th>6</th>\n      <td>1998</td>\n      <td>ALL STATES</td>\n      <td>2.011102e+06</td>\n      <td>68370</td>\n      <td>3153.887602</td>\n    </tr>\n    <tr>\n      <th>7</th>\n      <td>1999</td>\n      <td>ALL STATES</td>\n      <td>6.080200e+06</td>\n      <td>89363</td>\n      <td>9043.996600</td>\n    </tr>\n    <tr>\n      <th>8</th>\n      <td>2000</td>\n      <td>ALL STATES</td>\n      <td>7.639499e+06</td>\n      <td>96416</td>\n      <td>7992.038578</td>\n    </tr>\n    <tr>\n      <th>9</th>\n      <td>2001</td>\n      <td>ALL STATES</td>\n      <td>3.724072e+06</td>\n      <td>86587</td>\n      <td>2966.339729</td>\n    </tr>\n    <tr>\n      <th>10</th>\n      <td>2002</td>\n      <td>ALL STATES</td>\n      <td>6.803258e+06</td>\n      <td>75656</td>\n      <td>7205.578898</td>\n    </tr>\n    <tr>\n      <th>11</th>\n      <td>2003</td>\n      <td>ALL STATES</td>\n      <td>4.483573e+06</td>\n      <td>68261</td>\n      <td>3714.954668</td>\n    </tr>\n    <tr>\n      <th>12</th>\n      <td>2004</td>\n      <td>ALL STATES</td>\n      <td>8.234208e+06</td>\n      <td>69279</td>\n      <td>10961.418469</td>\n    </tr>\n    <tr>\n      <th>13</th>\n      <td>2005</td>\n      <td>ALL STATES</td>\n      <td>9.665105e+06</td>\n      <td>88604</td>\n      <td>11394.604668</td>\n    </tr>\n    <tr>\n      <th>14</th>\n      <td>2006</td>\n      <td>ALL STATES</td>\n      <td>1.004350e+07</td>\n      <td>114004</td>\n      <td>6042.794027</td>\n    </tr>\n    <tr>\n      <th>15</th>\n      <td>2007</td>\n      <td>ALL STATES</td>\n      <td>9.265429e+06</td>\n      <td>95573</td>\n      <td>6457.217413</td>\n    </tr>\n    <tr>\n      <th>16</th>\n      <td>2008</td>\n      <td>ALL STATES</td>\n      <td>5.406532e+06</td>\n      <td>85378</td>\n      <td>3430.839016</td>\n    </tr>\n    <tr>\n      <th>17</th>\n      <td>2009</td>\n      <td>ALL STATES</td>\n      <td>6.057166e+06</td>\n      <td>78325</td>\n      <td>7833.680008</td>\n    </tr>\n    <tr>\n      <th>18</th>\n      <td>2010</td>\n      <td>ALL STATES</td>\n      <td>3.493455e+06</td>\n      <td>79889</td>\n      <td>4128.814024</td>\n    </tr>\n    <tr>\n      <th>19</th>\n      <td>2011</td>\n      <td>ALL STATES</td>\n      <td>9.623597e+06</td>\n      <td>90552</td>\n      <td>6068.459407</td>\n    </tr>\n    <tr>\n      <th>20</th>\n      <td>2012</td>\n      <td>ALL STATES</td>\n      <td>9.439888e+06</td>\n      <td>72769</td>\n      <td>7811.702607</td>\n    </tr>\n    <tr>\n      <th>21</th>\n      <td>2013</td>\n      <td>ALL STATES</td>\n      <td>4.492502e+06</td>\n      <td>64780</td>\n      <td>4837.430019</td>\n    </tr>\n    <tr>\n      <th>22</th>\n      <td>2014</td>\n      <td>ALL STATES</td>\n      <td>3.673490e+06</td>\n      <td>67753</td>\n      <td>3071.414718</td>\n    </tr>\n    <tr>\n      <th>23</th>\n      <td>2015</td>\n      <td>ALL STATES</td>\n      <td>1.021827e+07</td>\n      <td>74491</td>\n      <td>10718.316038</td>\n    </tr>\n  </tbody>\n</table>\n</div>"
     },
     "metadata": {},
     "execution_count": 41
    }
   ],
   "source": [
    "first_column = year_df_3.pop('FIRE_YEAR')\n",
    "year_df_3.insert(0, 'FIRE_YEAR', first_column)\n",
    "\n",
    "year_df_3"
   ]
  },
  {
   "cell_type": "code",
   "execution_count": null,
   "metadata": {},
   "outputs": [],
   "source": []
  },
  {
   "cell_type": "code",
   "execution_count": 48,
   "metadata": {},
   "outputs": [
    {
     "output_type": "execute_result",
     "data": {
      "text/plain": [
       "    FIRE_YEAR       STATE     FIRE_SIZE  COUNT_FIRES  AVG_FIRE_SIZE\n",
       "0        1992          AK  1.427174e+05          481     296.709771\n",
       "1        1992          AL  1.253200e+03           93      13.475269\n",
       "2        1992          AR  1.478500e+03          128      11.550781\n",
       "3        1992          AZ  4.259365e+04         3494      12.190512\n",
       "4        1992          CA  2.964398e+05        10833      27.364516\n",
       "..        ...         ...           ...          ...            ...\n",
       "19       2011  ALL STATES  9.623597e+06        90552    6068.459407\n",
       "20       2012  ALL STATES  9.439888e+06        72769    7811.702607\n",
       "21       2013  ALL STATES  4.492502e+06        64780    4837.430019\n",
       "22       2014  ALL STATES  3.673490e+06        67753    3071.414718\n",
       "23       2015  ALL STATES  1.021827e+07        74491   10718.316038\n",
       "\n",
       "[1238 rows x 5 columns]"
      ],
      "text/html": "<div>\n<style scoped>\n    .dataframe tbody tr th:only-of-type {\n        vertical-align: middle;\n    }\n\n    .dataframe tbody tr th {\n        vertical-align: top;\n    }\n\n    .dataframe thead th {\n        text-align: right;\n    }\n</style>\n<table border=\"1\" class=\"dataframe\">\n  <thead>\n    <tr style=\"text-align: right;\">\n      <th></th>\n      <th>FIRE_YEAR</th>\n      <th>STATE</th>\n      <th>FIRE_SIZE</th>\n      <th>COUNT_FIRES</th>\n      <th>AVG_FIRE_SIZE</th>\n    </tr>\n  </thead>\n  <tbody>\n    <tr>\n      <th>0</th>\n      <td>1992</td>\n      <td>AK</td>\n      <td>1.427174e+05</td>\n      <td>481</td>\n      <td>296.709771</td>\n    </tr>\n    <tr>\n      <th>1</th>\n      <td>1992</td>\n      <td>AL</td>\n      <td>1.253200e+03</td>\n      <td>93</td>\n      <td>13.475269</td>\n    </tr>\n    <tr>\n      <th>2</th>\n      <td>1992</td>\n      <td>AR</td>\n      <td>1.478500e+03</td>\n      <td>128</td>\n      <td>11.550781</td>\n    </tr>\n    <tr>\n      <th>3</th>\n      <td>1992</td>\n      <td>AZ</td>\n      <td>4.259365e+04</td>\n      <td>3494</td>\n      <td>12.190512</td>\n    </tr>\n    <tr>\n      <th>4</th>\n      <td>1992</td>\n      <td>CA</td>\n      <td>2.964398e+05</td>\n      <td>10833</td>\n      <td>27.364516</td>\n    </tr>\n    <tr>\n      <th>...</th>\n      <td>...</td>\n      <td>...</td>\n      <td>...</td>\n      <td>...</td>\n      <td>...</td>\n    </tr>\n    <tr>\n      <th>19</th>\n      <td>2011</td>\n      <td>ALL STATES</td>\n      <td>9.623597e+06</td>\n      <td>90552</td>\n      <td>6068.459407</td>\n    </tr>\n    <tr>\n      <th>20</th>\n      <td>2012</td>\n      <td>ALL STATES</td>\n      <td>9.439888e+06</td>\n      <td>72769</td>\n      <td>7811.702607</td>\n    </tr>\n    <tr>\n      <th>21</th>\n      <td>2013</td>\n      <td>ALL STATES</td>\n      <td>4.492502e+06</td>\n      <td>64780</td>\n      <td>4837.430019</td>\n    </tr>\n    <tr>\n      <th>22</th>\n      <td>2014</td>\n      <td>ALL STATES</td>\n      <td>3.673490e+06</td>\n      <td>67753</td>\n      <td>3071.414718</td>\n    </tr>\n    <tr>\n      <th>23</th>\n      <td>2015</td>\n      <td>ALL STATES</td>\n      <td>1.021827e+07</td>\n      <td>74491</td>\n      <td>10718.316038</td>\n    </tr>\n  </tbody>\n</table>\n<p>1238 rows × 5 columns</p>\n</div>"
     },
     "metadata": {},
     "execution_count": 48
    }
   ],
   "source": [
    "fire_size_count_year_all_state_df = year_df_1.append(year_df_3)\n",
    "fire_size_count_year_all_state_df"
   ]
  },
  {
   "cell_type": "code",
   "execution_count": 49,
   "metadata": {},
   "outputs": [],
   "source": [
    "# exporting total fires by year by state\n",
    "output_path_fires_year_state = \"output/total_fires_yearly_by_state.csv\"\n",
    "fire_size_count_year_all_state_df.to_csv(output_path_fires_year_state,index=False)"
   ]
  },
  {
   "cell_type": "code",
   "execution_count": null,
   "metadata": {},
   "outputs": [],
   "source": []
  }
 ]
}