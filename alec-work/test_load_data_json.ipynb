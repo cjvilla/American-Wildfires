{
 "metadata": {
  "language_info": {
   "codemirror_mode": {
    "name": "ipython",
    "version": 3
   },
   "file_extension": ".py",
   "mimetype": "text/x-python",
   "name": "python",
   "nbconvert_exporter": "python",
   "pygments_lexer": "ipython3",
   "version": "3.8.5"
  },
  "orig_nbformat": 2,
  "kernelspec": {
   "name": "python385jvsc74a57bd0006b2a4c59105e151f59d7a783e9669671dc3b315a85df72952575de8c58cde6",
   "display_name": "Python 3.8.5 64-bit ('base': conda)"
  }
 },
 "nbformat": 4,
 "nbformat_minor": 2,
 "cells": [
  {
   "cell_type": "code",
   "execution_count": 1,
   "metadata": {},
   "outputs": [],
   "source": [
    "import pandas as pd\n",
    "import json "
   ]
  },
  {
   "cell_type": "code",
   "execution_count": 2,
   "metadata": {},
   "outputs": [
    {
     "output_type": "execute_result",
     "data": {
      "text/plain": [
       "      FIRE_YEAR STATE    FIRE_SIZE  COUNT_FIRES  AVG_FIRE_SIZE\n",
       "0          1992    AK   142717.400          481     296.709771\n",
       "1          1992    AL     1253.200           93      13.475269\n",
       "2          1992    AR     1478.500          128      11.550781\n",
       "3          1992    AZ    42593.650         3494      12.190512\n",
       "4          1992    CA   296439.800        10833      27.364516\n",
       "...         ...   ...          ...          ...            ...\n",
       "1209       2015    VT      346.429           87       3.981943\n",
       "1210       2015    WA  1161646.380         1741     667.229397\n",
       "1211       2015    WI     2721.440          965       2.820145\n",
       "1212       2015    WV    17251.370          685      25.184482\n",
       "1213       2015    WY    36821.225          632      58.261432\n",
       "\n",
       "[1214 rows x 5 columns]"
      ],
      "text/html": "<div>\n<style scoped>\n    .dataframe tbody tr th:only-of-type {\n        vertical-align: middle;\n    }\n\n    .dataframe tbody tr th {\n        vertical-align: top;\n    }\n\n    .dataframe thead th {\n        text-align: right;\n    }\n</style>\n<table border=\"1\" class=\"dataframe\">\n  <thead>\n    <tr style=\"text-align: right;\">\n      <th></th>\n      <th>FIRE_YEAR</th>\n      <th>STATE</th>\n      <th>FIRE_SIZE</th>\n      <th>COUNT_FIRES</th>\n      <th>AVG_FIRE_SIZE</th>\n    </tr>\n  </thead>\n  <tbody>\n    <tr>\n      <th>0</th>\n      <td>1992</td>\n      <td>AK</td>\n      <td>142717.400</td>\n      <td>481</td>\n      <td>296.709771</td>\n    </tr>\n    <tr>\n      <th>1</th>\n      <td>1992</td>\n      <td>AL</td>\n      <td>1253.200</td>\n      <td>93</td>\n      <td>13.475269</td>\n    </tr>\n    <tr>\n      <th>2</th>\n      <td>1992</td>\n      <td>AR</td>\n      <td>1478.500</td>\n      <td>128</td>\n      <td>11.550781</td>\n    </tr>\n    <tr>\n      <th>3</th>\n      <td>1992</td>\n      <td>AZ</td>\n      <td>42593.650</td>\n      <td>3494</td>\n      <td>12.190512</td>\n    </tr>\n    <tr>\n      <th>4</th>\n      <td>1992</td>\n      <td>CA</td>\n      <td>296439.800</td>\n      <td>10833</td>\n      <td>27.364516</td>\n    </tr>\n    <tr>\n      <th>...</th>\n      <td>...</td>\n      <td>...</td>\n      <td>...</td>\n      <td>...</td>\n      <td>...</td>\n    </tr>\n    <tr>\n      <th>1209</th>\n      <td>2015</td>\n      <td>VT</td>\n      <td>346.429</td>\n      <td>87</td>\n      <td>3.981943</td>\n    </tr>\n    <tr>\n      <th>1210</th>\n      <td>2015</td>\n      <td>WA</td>\n      <td>1161646.380</td>\n      <td>1741</td>\n      <td>667.229397</td>\n    </tr>\n    <tr>\n      <th>1211</th>\n      <td>2015</td>\n      <td>WI</td>\n      <td>2721.440</td>\n      <td>965</td>\n      <td>2.820145</td>\n    </tr>\n    <tr>\n      <th>1212</th>\n      <td>2015</td>\n      <td>WV</td>\n      <td>17251.370</td>\n      <td>685</td>\n      <td>25.184482</td>\n    </tr>\n    <tr>\n      <th>1213</th>\n      <td>2015</td>\n      <td>WY</td>\n      <td>36821.225</td>\n      <td>632</td>\n      <td>58.261432</td>\n    </tr>\n  </tbody>\n</table>\n<p>1214 rows × 5 columns</p>\n</div>"
     },
     "metadata": {},
     "execution_count": 2
    }
   ],
   "source": [
    "csv_path = \"output/total_fires_yearly_by_state.csv\"\n",
    "fires_state_year_df = pd.read_csv(csv_path)\n",
    "fires_state_year_df"
   ]
  },
  {
   "cell_type": "code",
   "execution_count": 9,
   "metadata": {},
   "outputs": [
    {
     "output_type": "execute_result",
     "data": {
      "text/plain": [
       "              FIRE_SIZE  COUNT_FIRES  AVG_FIRE_SIZE\n",
       "FIRE_YEAR                                          \n",
       "1992       2.199958e+06        67975    2443.969367\n",
       "1993       2.191696e+06        61989    2340.408942\n",
       "1994       4.116676e+06        75955    4487.728201\n",
       "1995       2.049585e+06        71472    3107.596271\n",
       "1996       6.005156e+06        75574    8913.362023\n",
       "1997       3.214635e+06        61450    4414.014638\n",
       "1998       2.011102e+06        68370    3153.887602\n",
       "1999       6.080200e+06        89363    9043.996600\n",
       "2000       7.639499e+06        96416    7992.038578\n",
       "2001       3.724072e+06        86587    2966.339729\n",
       "2002       6.803258e+06        75656    7205.578898\n",
       "2003       4.483573e+06        68261    3714.954668\n",
       "2004       8.234208e+06        69279   10961.418469\n",
       "2005       9.665105e+06        88604   11394.604668\n",
       "2006       1.004350e+07       114004    6042.794027\n",
       "2007       9.265429e+06        95573    6457.217413\n",
       "2008       5.406532e+06        85378    3430.839016\n",
       "2009       6.057166e+06        78325    7833.680008\n",
       "2010       3.493455e+06        79889    4128.814024\n",
       "2011       9.623597e+06        90552    6068.459407\n",
       "2012       9.439888e+06        72769    7811.702607\n",
       "2013       4.492502e+06        64780    4837.430019\n",
       "2014       3.673490e+06        67753    3071.414718\n",
       "2015       1.021827e+07        74491   10718.316038"
      ],
      "text/html": "<div>\n<style scoped>\n    .dataframe tbody tr th:only-of-type {\n        vertical-align: middle;\n    }\n\n    .dataframe tbody tr th {\n        vertical-align: top;\n    }\n\n    .dataframe thead th {\n        text-align: right;\n    }\n</style>\n<table border=\"1\" class=\"dataframe\">\n  <thead>\n    <tr style=\"text-align: right;\">\n      <th></th>\n      <th>FIRE_SIZE</th>\n      <th>COUNT_FIRES</th>\n      <th>AVG_FIRE_SIZE</th>\n    </tr>\n    <tr>\n      <th>FIRE_YEAR</th>\n      <th></th>\n      <th></th>\n      <th></th>\n    </tr>\n  </thead>\n  <tbody>\n    <tr>\n      <th>1992</th>\n      <td>2.199958e+06</td>\n      <td>67975</td>\n      <td>2443.969367</td>\n    </tr>\n    <tr>\n      <th>1993</th>\n      <td>2.191696e+06</td>\n      <td>61989</td>\n      <td>2340.408942</td>\n    </tr>\n    <tr>\n      <th>1994</th>\n      <td>4.116676e+06</td>\n      <td>75955</td>\n      <td>4487.728201</td>\n    </tr>\n    <tr>\n      <th>1995</th>\n      <td>2.049585e+06</td>\n      <td>71472</td>\n      <td>3107.596271</td>\n    </tr>\n    <tr>\n      <th>1996</th>\n      <td>6.005156e+06</td>\n      <td>75574</td>\n      <td>8913.362023</td>\n    </tr>\n    <tr>\n      <th>1997</th>\n      <td>3.214635e+06</td>\n      <td>61450</td>\n      <td>4414.014638</td>\n    </tr>\n    <tr>\n      <th>1998</th>\n      <td>2.011102e+06</td>\n      <td>68370</td>\n      <td>3153.887602</td>\n    </tr>\n    <tr>\n      <th>1999</th>\n      <td>6.080200e+06</td>\n      <td>89363</td>\n      <td>9043.996600</td>\n    </tr>\n    <tr>\n      <th>2000</th>\n      <td>7.639499e+06</td>\n      <td>96416</td>\n      <td>7992.038578</td>\n    </tr>\n    <tr>\n      <th>2001</th>\n      <td>3.724072e+06</td>\n      <td>86587</td>\n      <td>2966.339729</td>\n    </tr>\n    <tr>\n      <th>2002</th>\n      <td>6.803258e+06</td>\n      <td>75656</td>\n      <td>7205.578898</td>\n    </tr>\n    <tr>\n      <th>2003</th>\n      <td>4.483573e+06</td>\n      <td>68261</td>\n      <td>3714.954668</td>\n    </tr>\n    <tr>\n      <th>2004</th>\n      <td>8.234208e+06</td>\n      <td>69279</td>\n      <td>10961.418469</td>\n    </tr>\n    <tr>\n      <th>2005</th>\n      <td>9.665105e+06</td>\n      <td>88604</td>\n      <td>11394.604668</td>\n    </tr>\n    <tr>\n      <th>2006</th>\n      <td>1.004350e+07</td>\n      <td>114004</td>\n      <td>6042.794027</td>\n    </tr>\n    <tr>\n      <th>2007</th>\n      <td>9.265429e+06</td>\n      <td>95573</td>\n      <td>6457.217413</td>\n    </tr>\n    <tr>\n      <th>2008</th>\n      <td>5.406532e+06</td>\n      <td>85378</td>\n      <td>3430.839016</td>\n    </tr>\n    <tr>\n      <th>2009</th>\n      <td>6.057166e+06</td>\n      <td>78325</td>\n      <td>7833.680008</td>\n    </tr>\n    <tr>\n      <th>2010</th>\n      <td>3.493455e+06</td>\n      <td>79889</td>\n      <td>4128.814024</td>\n    </tr>\n    <tr>\n      <th>2011</th>\n      <td>9.623597e+06</td>\n      <td>90552</td>\n      <td>6068.459407</td>\n    </tr>\n    <tr>\n      <th>2012</th>\n      <td>9.439888e+06</td>\n      <td>72769</td>\n      <td>7811.702607</td>\n    </tr>\n    <tr>\n      <th>2013</th>\n      <td>4.492502e+06</td>\n      <td>64780</td>\n      <td>4837.430019</td>\n    </tr>\n    <tr>\n      <th>2014</th>\n      <td>3.673490e+06</td>\n      <td>67753</td>\n      <td>3071.414718</td>\n    </tr>\n    <tr>\n      <th>2015</th>\n      <td>1.021827e+07</td>\n      <td>74491</td>\n      <td>10718.316038</td>\n    </tr>\n  </tbody>\n</table>\n</div>"
     },
     "metadata": {},
     "execution_count": 9
    }
   ],
   "source": [
    "years_df = fires_state_year_df.groupby([\"FIRE_YEAR\"]).sum()\n",
    "years_df"
   ]
  },
  {
   "cell_type": "code",
   "execution_count": null,
   "metadata": {},
   "outputs": [],
   "source": [
    "fires_state_year_df_index = fires_state_year_df.set_index(['FIRE_YEAR', 'STATE'])\n",
    "fires_state_year_df_index"
   ]
  },
  {
   "cell_type": "code",
   "execution_count": null,
   "metadata": {},
   "outputs": [],
   "source": [
    "result = fires_state_year_df_index.to_json(orient=\"table\")\n",
    "parsed = json.loads(result)\n",
    "result"
   ]
  },
  {
   "cell_type": "code",
   "execution_count": null,
   "metadata": {},
   "outputs": [],
   "source": []
  }
 ]
}