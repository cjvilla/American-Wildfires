{
 "metadata": {
  "language_info": {
   "codemirror_mode": {
    "name": "ipython",
    "version": 3
   },
   "file_extension": ".py",
   "mimetype": "text/x-python",
   "name": "python",
   "nbconvert_exporter": "python",
   "pygments_lexer": "ipython3",
   "version": "3.8.5"
  },
  "orig_nbformat": 2,
  "kernelspec": {
   "name": "python385jvsc74a57bd0006b2a4c59105e151f59d7a783e9669671dc3b315a85df72952575de8c58cde6",
   "display_name": "Python 3.8.5 64-bit ('base': conda)"
  }
 },
 "nbformat": 4,
 "nbformat_minor": 2,
 "cells": [
  {
   "cell_type": "code",
   "execution_count": 1,
   "metadata": {},
   "outputs": [],
   "source": [
    "# Import Dependencies\n",
    "import pandas as pd\n",
    "import sqlalchemy\n",
    "from sqlalchemy.ext.automap import automap_base\n",
    "from sqlalchemy.orm import Session\n",
    "from sqlalchemy import create_engine, inspect, func"
   ]
  },
  {
   "cell_type": "code",
   "execution_count": 2,
   "metadata": {},
   "outputs": [],
   "source": [
    "# Create Engine for census data\n",
    "engine = create_engine(\"sqlite:///../../data/FPA_FOD_20170508.sqlite\")\n",
    "conn = engine.connect()"
   ]
  },
  {
   "cell_type": "code",
   "execution_count": 3,
   "metadata": {},
   "outputs": [],
   "source": [
    "# Query All Records in the the Fires Table\n",
    "fires_data = pd.read_sql(\"SELECT * FROM Fires\", conn)"
   ]
  },
  {
   "cell_type": "code",
   "execution_count": 4,
   "metadata": {},
   "outputs": [
    {
     "output_type": "execute_result",
     "data": {
      "text/plain": [
       "1880465"
      ]
     },
     "metadata": {},
     "execution_count": 4
    }
   ],
   "source": [
    "len(fires_data)"
   ]
  },
  {
   "cell_type": "code",
   "execution_count": 5,
   "metadata": {},
   "outputs": [
    {
     "output_type": "execute_result",
     "data": {
      "text/plain": [
       "   OBJECTID  FOD_ID      FPA_ID SOURCE_SYSTEM_TYPE SOURCE_SYSTEM  \\\n",
       "0         1       1  FS-1418826                FED   FS-FIRESTAT   \n",
       "1         2       2  FS-1418827                FED   FS-FIRESTAT   \n",
       "2         3       3  FS-1418835                FED   FS-FIRESTAT   \n",
       "3         4       4  FS-1418845                FED   FS-FIRESTAT   \n",
       "4         5       5  FS-1418847                FED   FS-FIRESTAT   \n",
       "5         6       6  FS-1418849                FED   FS-FIRESTAT   \n",
       "6         7       7  FS-1418851                FED   FS-FIRESTAT   \n",
       "7         8       8  FS-1418854                FED   FS-FIRESTAT   \n",
       "8         9       9  FS-1418856                FED   FS-FIRESTAT   \n",
       "9        10      10  FS-1418859                FED   FS-FIRESTAT   \n",
       "\n",
       "  NWCG_REPORTING_AGENCY NWCG_REPORTING_UNIT_ID  \\\n",
       "0                    FS                USCAPNF   \n",
       "1                    FS                USCAENF   \n",
       "2                    FS                USCAENF   \n",
       "3                    FS                USCAENF   \n",
       "4                    FS                USCAENF   \n",
       "5                    FS                USCAENF   \n",
       "6                    FS                USCAENF   \n",
       "7                    FS                USCASHF   \n",
       "8                    FS                USCASHF   \n",
       "9                    FS                USCAENF   \n",
       "\n",
       "         NWCG_REPORTING_UNIT_NAME SOURCE_REPORTING_UNIT  \\\n",
       "0          Plumas National Forest                  0511   \n",
       "1        Eldorado National Forest                  0503   \n",
       "2        Eldorado National Forest                  0503   \n",
       "3        Eldorado National Forest                  0503   \n",
       "4        Eldorado National Forest                  0503   \n",
       "5        Eldorado National Forest                  0503   \n",
       "6        Eldorado National Forest                  0503   \n",
       "7  Shasta-Trinity National Forest                  0514   \n",
       "8  Shasta-Trinity National Forest                  0514   \n",
       "9        Eldorado National Forest                  0503   \n",
       "\n",
       "       SOURCE_REPORTING_UNIT_NAME  ... FIRE_SIZE_CLASS   LATITUDE   LONGITUDE  \\\n",
       "0          Plumas National Forest  ...               A  40.036944 -121.005833   \n",
       "1        Eldorado National Forest  ...               A  38.933056 -120.404444   \n",
       "2        Eldorado National Forest  ...               A  38.984167 -120.735556   \n",
       "3        Eldorado National Forest  ...               A  38.559167 -119.913333   \n",
       "4        Eldorado National Forest  ...               A  38.559167 -119.933056   \n",
       "5        Eldorado National Forest  ...               A  38.635278 -120.103611   \n",
       "6        Eldorado National Forest  ...               A  38.688333 -120.153333   \n",
       "7  Shasta-Trinity National Forest  ...               B  40.968056 -122.433889   \n",
       "8  Shasta-Trinity National Forest  ...               B  41.233611 -122.283333   \n",
       "9        Eldorado National Forest  ...               A  38.548333 -120.149167   \n",
       "\n",
       "  OWNER_CODE       OWNER_DESCR STATE COUNTY FIPS_CODE  FIPS_NAME  \\\n",
       "0        5.0              USFS    CA     63       063     Plumas   \n",
       "1        5.0              USFS    CA     61       061     Placer   \n",
       "2       13.0  STATE OR PRIVATE    CA     17       017  El Dorado   \n",
       "3        5.0              USFS    CA      3       003     Alpine   \n",
       "4        5.0              USFS    CA      3       003     Alpine   \n",
       "5        5.0              USFS    CA      5       005     Amador   \n",
       "6        5.0              USFS    CA     17       017  El Dorado   \n",
       "7       13.0  STATE OR PRIVATE    CA   None      None       None   \n",
       "8       13.0  STATE OR PRIVATE    CA   None      None       None   \n",
       "9        5.0              USFS    CA      5       005     Amador   \n",
       "\n",
       "                                               Shape  \n",
       "0  b'\\x00\\x01\\xad\\x10\\x00\\x00\\xe8d\\xc2\\x92_@^\\xc0...  \n",
       "1  b'\\x00\\x01\\xad\\x10\\x00\\x00T\\xb6\\xeej\\xe2\\x19^\\...  \n",
       "2  b'\\x00\\x01\\xad\\x10\\x00\\x00\\xd0\\xa5\\xa0W\\x13/^\\...  \n",
       "3  b'\\x00\\x01\\xad\\x10\\x00\\x00\\x94\\xac\\xa3\\rt\\xfa]...  \n",
       "4  b'\\x00\\x01\\xad\\x10\\x00\\x00@\\xe3\\xaa.\\xb7\\xfb]\\...  \n",
       "5  b'\\x00\\x01\\xad\\x10\\x00\\x00\\xf0<~\\x90\\xa1\\x06^\\...  \n",
       "6  b'\\x00\\x01\\xad\\x10\\x00\\x00$o\\x996\\xd0\\t^\\xc0h\\...  \n",
       "7  b'\\x00\\x01\\xad\\x10\\x00\\x00t)\\xe8\\xd5\\xc4\\x9b^\\...  \n",
       "8  b'\\x00\\x01\\xad\\x10\\x00\\x00\\xdc\\x8d\\x1e\"\"\\x92^\\...  \n",
       "9  b'\\x00\\x01\\xad\\x10\\x00\\x00dS\\\\\\xf2\\x8b\\t^\\xc0\\...  \n",
       "\n",
       "[10 rows x 39 columns]"
      ],
      "text/html": "<div>\n<style scoped>\n    .dataframe tbody tr th:only-of-type {\n        vertical-align: middle;\n    }\n\n    .dataframe tbody tr th {\n        vertical-align: top;\n    }\n\n    .dataframe thead th {\n        text-align: right;\n    }\n</style>\n<table border=\"1\" class=\"dataframe\">\n  <thead>\n    <tr style=\"text-align: right;\">\n      <th></th>\n      <th>OBJECTID</th>\n      <th>FOD_ID</th>\n      <th>FPA_ID</th>\n      <th>SOURCE_SYSTEM_TYPE</th>\n      <th>SOURCE_SYSTEM</th>\n      <th>NWCG_REPORTING_AGENCY</th>\n      <th>NWCG_REPORTING_UNIT_ID</th>\n      <th>NWCG_REPORTING_UNIT_NAME</th>\n      <th>SOURCE_REPORTING_UNIT</th>\n      <th>SOURCE_REPORTING_UNIT_NAME</th>\n      <th>...</th>\n      <th>FIRE_SIZE_CLASS</th>\n      <th>LATITUDE</th>\n      <th>LONGITUDE</th>\n      <th>OWNER_CODE</th>\n      <th>OWNER_DESCR</th>\n      <th>STATE</th>\n      <th>COUNTY</th>\n      <th>FIPS_CODE</th>\n      <th>FIPS_NAME</th>\n      <th>Shape</th>\n    </tr>\n  </thead>\n  <tbody>\n    <tr>\n      <th>0</th>\n      <td>1</td>\n      <td>1</td>\n      <td>FS-1418826</td>\n      <td>FED</td>\n      <td>FS-FIRESTAT</td>\n      <td>FS</td>\n      <td>USCAPNF</td>\n      <td>Plumas National Forest</td>\n      <td>0511</td>\n      <td>Plumas National Forest</td>\n      <td>...</td>\n      <td>A</td>\n      <td>40.036944</td>\n      <td>-121.005833</td>\n      <td>5.0</td>\n      <td>USFS</td>\n      <td>CA</td>\n      <td>63</td>\n      <td>063</td>\n      <td>Plumas</td>\n      <td>b'\\x00\\x01\\xad\\x10\\x00\\x00\\xe8d\\xc2\\x92_@^\\xc0...</td>\n    </tr>\n    <tr>\n      <th>1</th>\n      <td>2</td>\n      <td>2</td>\n      <td>FS-1418827</td>\n      <td>FED</td>\n      <td>FS-FIRESTAT</td>\n      <td>FS</td>\n      <td>USCAENF</td>\n      <td>Eldorado National Forest</td>\n      <td>0503</td>\n      <td>Eldorado National Forest</td>\n      <td>...</td>\n      <td>A</td>\n      <td>38.933056</td>\n      <td>-120.404444</td>\n      <td>5.0</td>\n      <td>USFS</td>\n      <td>CA</td>\n      <td>61</td>\n      <td>061</td>\n      <td>Placer</td>\n      <td>b'\\x00\\x01\\xad\\x10\\x00\\x00T\\xb6\\xeej\\xe2\\x19^\\...</td>\n    </tr>\n    <tr>\n      <th>2</th>\n      <td>3</td>\n      <td>3</td>\n      <td>FS-1418835</td>\n      <td>FED</td>\n      <td>FS-FIRESTAT</td>\n      <td>FS</td>\n      <td>USCAENF</td>\n      <td>Eldorado National Forest</td>\n      <td>0503</td>\n      <td>Eldorado National Forest</td>\n      <td>...</td>\n      <td>A</td>\n      <td>38.984167</td>\n      <td>-120.735556</td>\n      <td>13.0</td>\n      <td>STATE OR PRIVATE</td>\n      <td>CA</td>\n      <td>17</td>\n      <td>017</td>\n      <td>El Dorado</td>\n      <td>b'\\x00\\x01\\xad\\x10\\x00\\x00\\xd0\\xa5\\xa0W\\x13/^\\...</td>\n    </tr>\n    <tr>\n      <th>3</th>\n      <td>4</td>\n      <td>4</td>\n      <td>FS-1418845</td>\n      <td>FED</td>\n      <td>FS-FIRESTAT</td>\n      <td>FS</td>\n      <td>USCAENF</td>\n      <td>Eldorado National Forest</td>\n      <td>0503</td>\n      <td>Eldorado National Forest</td>\n      <td>...</td>\n      <td>A</td>\n      <td>38.559167</td>\n      <td>-119.913333</td>\n      <td>5.0</td>\n      <td>USFS</td>\n      <td>CA</td>\n      <td>3</td>\n      <td>003</td>\n      <td>Alpine</td>\n      <td>b'\\x00\\x01\\xad\\x10\\x00\\x00\\x94\\xac\\xa3\\rt\\xfa]...</td>\n    </tr>\n    <tr>\n      <th>4</th>\n      <td>5</td>\n      <td>5</td>\n      <td>FS-1418847</td>\n      <td>FED</td>\n      <td>FS-FIRESTAT</td>\n      <td>FS</td>\n      <td>USCAENF</td>\n      <td>Eldorado National Forest</td>\n      <td>0503</td>\n      <td>Eldorado National Forest</td>\n      <td>...</td>\n      <td>A</td>\n      <td>38.559167</td>\n      <td>-119.933056</td>\n      <td>5.0</td>\n      <td>USFS</td>\n      <td>CA</td>\n      <td>3</td>\n      <td>003</td>\n      <td>Alpine</td>\n      <td>b'\\x00\\x01\\xad\\x10\\x00\\x00@\\xe3\\xaa.\\xb7\\xfb]\\...</td>\n    </tr>\n    <tr>\n      <th>5</th>\n      <td>6</td>\n      <td>6</td>\n      <td>FS-1418849</td>\n      <td>FED</td>\n      <td>FS-FIRESTAT</td>\n      <td>FS</td>\n      <td>USCAENF</td>\n      <td>Eldorado National Forest</td>\n      <td>0503</td>\n      <td>Eldorado National Forest</td>\n      <td>...</td>\n      <td>A</td>\n      <td>38.635278</td>\n      <td>-120.103611</td>\n      <td>5.0</td>\n      <td>USFS</td>\n      <td>CA</td>\n      <td>5</td>\n      <td>005</td>\n      <td>Amador</td>\n      <td>b'\\x00\\x01\\xad\\x10\\x00\\x00\\xf0&lt;~\\x90\\xa1\\x06^\\...</td>\n    </tr>\n    <tr>\n      <th>6</th>\n      <td>7</td>\n      <td>7</td>\n      <td>FS-1418851</td>\n      <td>FED</td>\n      <td>FS-FIRESTAT</td>\n      <td>FS</td>\n      <td>USCAENF</td>\n      <td>Eldorado National Forest</td>\n      <td>0503</td>\n      <td>Eldorado National Forest</td>\n      <td>...</td>\n      <td>A</td>\n      <td>38.688333</td>\n      <td>-120.153333</td>\n      <td>5.0</td>\n      <td>USFS</td>\n      <td>CA</td>\n      <td>17</td>\n      <td>017</td>\n      <td>El Dorado</td>\n      <td>b'\\x00\\x01\\xad\\x10\\x00\\x00$o\\x996\\xd0\\t^\\xc0h\\...</td>\n    </tr>\n    <tr>\n      <th>7</th>\n      <td>8</td>\n      <td>8</td>\n      <td>FS-1418854</td>\n      <td>FED</td>\n      <td>FS-FIRESTAT</td>\n      <td>FS</td>\n      <td>USCASHF</td>\n      <td>Shasta-Trinity National Forest</td>\n      <td>0514</td>\n      <td>Shasta-Trinity National Forest</td>\n      <td>...</td>\n      <td>B</td>\n      <td>40.968056</td>\n      <td>-122.433889</td>\n      <td>13.0</td>\n      <td>STATE OR PRIVATE</td>\n      <td>CA</td>\n      <td>None</td>\n      <td>None</td>\n      <td>None</td>\n      <td>b'\\x00\\x01\\xad\\x10\\x00\\x00t)\\xe8\\xd5\\xc4\\x9b^\\...</td>\n    </tr>\n    <tr>\n      <th>8</th>\n      <td>9</td>\n      <td>9</td>\n      <td>FS-1418856</td>\n      <td>FED</td>\n      <td>FS-FIRESTAT</td>\n      <td>FS</td>\n      <td>USCASHF</td>\n      <td>Shasta-Trinity National Forest</td>\n      <td>0514</td>\n      <td>Shasta-Trinity National Forest</td>\n      <td>...</td>\n      <td>B</td>\n      <td>41.233611</td>\n      <td>-122.283333</td>\n      <td>13.0</td>\n      <td>STATE OR PRIVATE</td>\n      <td>CA</td>\n      <td>None</td>\n      <td>None</td>\n      <td>None</td>\n      <td>b'\\x00\\x01\\xad\\x10\\x00\\x00\\xdc\\x8d\\x1e\"\"\\x92^\\...</td>\n    </tr>\n    <tr>\n      <th>9</th>\n      <td>10</td>\n      <td>10</td>\n      <td>FS-1418859</td>\n      <td>FED</td>\n      <td>FS-FIRESTAT</td>\n      <td>FS</td>\n      <td>USCAENF</td>\n      <td>Eldorado National Forest</td>\n      <td>0503</td>\n      <td>Eldorado National Forest</td>\n      <td>...</td>\n      <td>A</td>\n      <td>38.548333</td>\n      <td>-120.149167</td>\n      <td>5.0</td>\n      <td>USFS</td>\n      <td>CA</td>\n      <td>5</td>\n      <td>005</td>\n      <td>Amador</td>\n      <td>b'\\x00\\x01\\xad\\x10\\x00\\x00dS\\\\\\xf2\\x8b\\t^\\xc0\\...</td>\n    </tr>\n  </tbody>\n</table>\n<p>10 rows × 39 columns</p>\n</div>"
     },
     "metadata": {},
     "execution_count": 5
    }
   ],
   "source": [
    "fires_data.head(10)"
   ]
  },
  {
   "cell_type": "code",
   "execution_count": 7,
   "metadata": {},
   "outputs": [
    {
     "output_type": "execute_result",
     "data": {
      "text/plain": [
       "   OBJECTID  FOD_ID      FPA_ID SOURCE_SYSTEM_TYPE SOURCE_SYSTEM  \\\n",
       "0         1       1  FS-1418826                FED   FS-FIRESTAT   \n",
       "1         2       2  FS-1418827                FED   FS-FIRESTAT   \n",
       "2         3       3  FS-1418835                FED   FS-FIRESTAT   \n",
       "3         4       4  FS-1418845                FED   FS-FIRESTAT   \n",
       "4         5       5  FS-1418847                FED   FS-FIRESTAT   \n",
       "5         6       6  FS-1418849                FED   FS-FIRESTAT   \n",
       "6         7       7  FS-1418851                FED   FS-FIRESTAT   \n",
       "7         8       8  FS-1418854                FED   FS-FIRESTAT   \n",
       "8         9       9  FS-1418856                FED   FS-FIRESTAT   \n",
       "9        10      10  FS-1418859                FED   FS-FIRESTAT   \n",
       "\n",
       "  NWCG_REPORTING_AGENCY NWCG_REPORTING_UNIT_ID  \\\n",
       "0                    FS                USCAPNF   \n",
       "1                    FS                USCAENF   \n",
       "2                    FS                USCAENF   \n",
       "3                    FS                USCAENF   \n",
       "4                    FS                USCAENF   \n",
       "5                    FS                USCAENF   \n",
       "6                    FS                USCAENF   \n",
       "7                    FS                USCASHF   \n",
       "8                    FS                USCASHF   \n",
       "9                    FS                USCAENF   \n",
       "\n",
       "         NWCG_REPORTING_UNIT_NAME SOURCE_REPORTING_UNIT  \\\n",
       "0          Plumas National Forest                  0511   \n",
       "1        Eldorado National Forest                  0503   \n",
       "2        Eldorado National Forest                  0503   \n",
       "3        Eldorado National Forest                  0503   \n",
       "4        Eldorado National Forest                  0503   \n",
       "5        Eldorado National Forest                  0503   \n",
       "6        Eldorado National Forest                  0503   \n",
       "7  Shasta-Trinity National Forest                  0514   \n",
       "8  Shasta-Trinity National Forest                  0514   \n",
       "9        Eldorado National Forest                  0503   \n",
       "\n",
       "       SOURCE_REPORTING_UNIT_NAME  ... FIRE_SIZE_CLASS   LATITUDE   LONGITUDE  \\\n",
       "0          Plumas National Forest  ...               A  40.036944 -121.005833   \n",
       "1        Eldorado National Forest  ...               A  38.933056 -120.404444   \n",
       "2        Eldorado National Forest  ...               A  38.984167 -120.735556   \n",
       "3        Eldorado National Forest  ...               A  38.559167 -119.913333   \n",
       "4        Eldorado National Forest  ...               A  38.559167 -119.933056   \n",
       "5        Eldorado National Forest  ...               A  38.635278 -120.103611   \n",
       "6        Eldorado National Forest  ...               A  38.688333 -120.153333   \n",
       "7  Shasta-Trinity National Forest  ...               B  40.968056 -122.433889   \n",
       "8  Shasta-Trinity National Forest  ...               B  41.233611 -122.283333   \n",
       "9        Eldorado National Forest  ...               A  38.548333 -120.149167   \n",
       "\n",
       "  OWNER_CODE       OWNER_DESCR STATE COUNTY FIPS_CODE  FIPS_NAME  \\\n",
       "0        5.0              USFS    CA     63       063     Plumas   \n",
       "1        5.0              USFS    CA     61       061     Placer   \n",
       "2       13.0  STATE OR PRIVATE    CA     17       017  El Dorado   \n",
       "3        5.0              USFS    CA      3       003     Alpine   \n",
       "4        5.0              USFS    CA      3       003     Alpine   \n",
       "5        5.0              USFS    CA      5       005     Amador   \n",
       "6        5.0              USFS    CA     17       017  El Dorado   \n",
       "7       13.0  STATE OR PRIVATE    CA   None      None       None   \n",
       "8       13.0  STATE OR PRIVATE    CA   None      None       None   \n",
       "9        5.0              USFS    CA      5       005     Amador   \n",
       "\n",
       "                                               Shape  \n",
       "0  b'\\x00\\x01\\xad\\x10\\x00\\x00\\xe8d\\xc2\\x92_@^\\xc0...  \n",
       "1  b'\\x00\\x01\\xad\\x10\\x00\\x00T\\xb6\\xeej\\xe2\\x19^\\...  \n",
       "2  b'\\x00\\x01\\xad\\x10\\x00\\x00\\xd0\\xa5\\xa0W\\x13/^\\...  \n",
       "3  b'\\x00\\x01\\xad\\x10\\x00\\x00\\x94\\xac\\xa3\\rt\\xfa]...  \n",
       "4  b'\\x00\\x01\\xad\\x10\\x00\\x00@\\xe3\\xaa.\\xb7\\xfb]\\...  \n",
       "5  b'\\x00\\x01\\xad\\x10\\x00\\x00\\xf0<~\\x90\\xa1\\x06^\\...  \n",
       "6  b'\\x00\\x01\\xad\\x10\\x00\\x00$o\\x996\\xd0\\t^\\xc0h\\...  \n",
       "7  b'\\x00\\x01\\xad\\x10\\x00\\x00t)\\xe8\\xd5\\xc4\\x9b^\\...  \n",
       "8  b'\\x00\\x01\\xad\\x10\\x00\\x00\\xdc\\x8d\\x1e\"\"\\x92^\\...  \n",
       "9  b'\\x00\\x01\\xad\\x10\\x00\\x00dS\\\\\\xf2\\x8b\\t^\\xc0\\...  \n",
       "\n",
       "[10 rows x 39 columns]"
      ],
      "text/html": "<div>\n<style scoped>\n    .dataframe tbody tr th:only-of-type {\n        vertical-align: middle;\n    }\n\n    .dataframe tbody tr th {\n        vertical-align: top;\n    }\n\n    .dataframe thead th {\n        text-align: right;\n    }\n</style>\n<table border=\"1\" class=\"dataframe\">\n  <thead>\n    <tr style=\"text-align: right;\">\n      <th></th>\n      <th>OBJECTID</th>\n      <th>FOD_ID</th>\n      <th>FPA_ID</th>\n      <th>SOURCE_SYSTEM_TYPE</th>\n      <th>SOURCE_SYSTEM</th>\n      <th>NWCG_REPORTING_AGENCY</th>\n      <th>NWCG_REPORTING_UNIT_ID</th>\n      <th>NWCG_REPORTING_UNIT_NAME</th>\n      <th>SOURCE_REPORTING_UNIT</th>\n      <th>SOURCE_REPORTING_UNIT_NAME</th>\n      <th>...</th>\n      <th>FIRE_SIZE_CLASS</th>\n      <th>LATITUDE</th>\n      <th>LONGITUDE</th>\n      <th>OWNER_CODE</th>\n      <th>OWNER_DESCR</th>\n      <th>STATE</th>\n      <th>COUNTY</th>\n      <th>FIPS_CODE</th>\n      <th>FIPS_NAME</th>\n      <th>Shape</th>\n    </tr>\n  </thead>\n  <tbody>\n    <tr>\n      <th>0</th>\n      <td>1</td>\n      <td>1</td>\n      <td>FS-1418826</td>\n      <td>FED</td>\n      <td>FS-FIRESTAT</td>\n      <td>FS</td>\n      <td>USCAPNF</td>\n      <td>Plumas National Forest</td>\n      <td>0511</td>\n      <td>Plumas National Forest</td>\n      <td>...</td>\n      <td>A</td>\n      <td>40.036944</td>\n      <td>-121.005833</td>\n      <td>5.0</td>\n      <td>USFS</td>\n      <td>CA</td>\n      <td>63</td>\n      <td>063</td>\n      <td>Plumas</td>\n      <td>b'\\x00\\x01\\xad\\x10\\x00\\x00\\xe8d\\xc2\\x92_@^\\xc0...</td>\n    </tr>\n    <tr>\n      <th>1</th>\n      <td>2</td>\n      <td>2</td>\n      <td>FS-1418827</td>\n      <td>FED</td>\n      <td>FS-FIRESTAT</td>\n      <td>FS</td>\n      <td>USCAENF</td>\n      <td>Eldorado National Forest</td>\n      <td>0503</td>\n      <td>Eldorado National Forest</td>\n      <td>...</td>\n      <td>A</td>\n      <td>38.933056</td>\n      <td>-120.404444</td>\n      <td>5.0</td>\n      <td>USFS</td>\n      <td>CA</td>\n      <td>61</td>\n      <td>061</td>\n      <td>Placer</td>\n      <td>b'\\x00\\x01\\xad\\x10\\x00\\x00T\\xb6\\xeej\\xe2\\x19^\\...</td>\n    </tr>\n    <tr>\n      <th>2</th>\n      <td>3</td>\n      <td>3</td>\n      <td>FS-1418835</td>\n      <td>FED</td>\n      <td>FS-FIRESTAT</td>\n      <td>FS</td>\n      <td>USCAENF</td>\n      <td>Eldorado National Forest</td>\n      <td>0503</td>\n      <td>Eldorado National Forest</td>\n      <td>...</td>\n      <td>A</td>\n      <td>38.984167</td>\n      <td>-120.735556</td>\n      <td>13.0</td>\n      <td>STATE OR PRIVATE</td>\n      <td>CA</td>\n      <td>17</td>\n      <td>017</td>\n      <td>El Dorado</td>\n      <td>b'\\x00\\x01\\xad\\x10\\x00\\x00\\xd0\\xa5\\xa0W\\x13/^\\...</td>\n    </tr>\n    <tr>\n      <th>3</th>\n      <td>4</td>\n      <td>4</td>\n      <td>FS-1418845</td>\n      <td>FED</td>\n      <td>FS-FIRESTAT</td>\n      <td>FS</td>\n      <td>USCAENF</td>\n      <td>Eldorado National Forest</td>\n      <td>0503</td>\n      <td>Eldorado National Forest</td>\n      <td>...</td>\n      <td>A</td>\n      <td>38.559167</td>\n      <td>-119.913333</td>\n      <td>5.0</td>\n      <td>USFS</td>\n      <td>CA</td>\n      <td>3</td>\n      <td>003</td>\n      <td>Alpine</td>\n      <td>b'\\x00\\x01\\xad\\x10\\x00\\x00\\x94\\xac\\xa3\\rt\\xfa]...</td>\n    </tr>\n    <tr>\n      <th>4</th>\n      <td>5</td>\n      <td>5</td>\n      <td>FS-1418847</td>\n      <td>FED</td>\n      <td>FS-FIRESTAT</td>\n      <td>FS</td>\n      <td>USCAENF</td>\n      <td>Eldorado National Forest</td>\n      <td>0503</td>\n      <td>Eldorado National Forest</td>\n      <td>...</td>\n      <td>A</td>\n      <td>38.559167</td>\n      <td>-119.933056</td>\n      <td>5.0</td>\n      <td>USFS</td>\n      <td>CA</td>\n      <td>3</td>\n      <td>003</td>\n      <td>Alpine</td>\n      <td>b'\\x00\\x01\\xad\\x10\\x00\\x00@\\xe3\\xaa.\\xb7\\xfb]\\...</td>\n    </tr>\n    <tr>\n      <th>5</th>\n      <td>6</td>\n      <td>6</td>\n      <td>FS-1418849</td>\n      <td>FED</td>\n      <td>FS-FIRESTAT</td>\n      <td>FS</td>\n      <td>USCAENF</td>\n      <td>Eldorado National Forest</td>\n      <td>0503</td>\n      <td>Eldorado National Forest</td>\n      <td>...</td>\n      <td>A</td>\n      <td>38.635278</td>\n      <td>-120.103611</td>\n      <td>5.0</td>\n      <td>USFS</td>\n      <td>CA</td>\n      <td>5</td>\n      <td>005</td>\n      <td>Amador</td>\n      <td>b'\\x00\\x01\\xad\\x10\\x00\\x00\\xf0&lt;~\\x90\\xa1\\x06^\\...</td>\n    </tr>\n    <tr>\n      <th>6</th>\n      <td>7</td>\n      <td>7</td>\n      <td>FS-1418851</td>\n      <td>FED</td>\n      <td>FS-FIRESTAT</td>\n      <td>FS</td>\n      <td>USCAENF</td>\n      <td>Eldorado National Forest</td>\n      <td>0503</td>\n      <td>Eldorado National Forest</td>\n      <td>...</td>\n      <td>A</td>\n      <td>38.688333</td>\n      <td>-120.153333</td>\n      <td>5.0</td>\n      <td>USFS</td>\n      <td>CA</td>\n      <td>17</td>\n      <td>017</td>\n      <td>El Dorado</td>\n      <td>b'\\x00\\x01\\xad\\x10\\x00\\x00$o\\x996\\xd0\\t^\\xc0h\\...</td>\n    </tr>\n    <tr>\n      <th>7</th>\n      <td>8</td>\n      <td>8</td>\n      <td>FS-1418854</td>\n      <td>FED</td>\n      <td>FS-FIRESTAT</td>\n      <td>FS</td>\n      <td>USCASHF</td>\n      <td>Shasta-Trinity National Forest</td>\n      <td>0514</td>\n      <td>Shasta-Trinity National Forest</td>\n      <td>...</td>\n      <td>B</td>\n      <td>40.968056</td>\n      <td>-122.433889</td>\n      <td>13.0</td>\n      <td>STATE OR PRIVATE</td>\n      <td>CA</td>\n      <td>None</td>\n      <td>None</td>\n      <td>None</td>\n      <td>b'\\x00\\x01\\xad\\x10\\x00\\x00t)\\xe8\\xd5\\xc4\\x9b^\\...</td>\n    </tr>\n    <tr>\n      <th>8</th>\n      <td>9</td>\n      <td>9</td>\n      <td>FS-1418856</td>\n      <td>FED</td>\n      <td>FS-FIRESTAT</td>\n      <td>FS</td>\n      <td>USCASHF</td>\n      <td>Shasta-Trinity National Forest</td>\n      <td>0514</td>\n      <td>Shasta-Trinity National Forest</td>\n      <td>...</td>\n      <td>B</td>\n      <td>41.233611</td>\n      <td>-122.283333</td>\n      <td>13.0</td>\n      <td>STATE OR PRIVATE</td>\n      <td>CA</td>\n      <td>None</td>\n      <td>None</td>\n      <td>None</td>\n      <td>b'\\x00\\x01\\xad\\x10\\x00\\x00\\xdc\\x8d\\x1e\"\"\\x92^\\...</td>\n    </tr>\n    <tr>\n      <th>9</th>\n      <td>10</td>\n      <td>10</td>\n      <td>FS-1418859</td>\n      <td>FED</td>\n      <td>FS-FIRESTAT</td>\n      <td>FS</td>\n      <td>USCAENF</td>\n      <td>Eldorado National Forest</td>\n      <td>0503</td>\n      <td>Eldorado National Forest</td>\n      <td>...</td>\n      <td>A</td>\n      <td>38.548333</td>\n      <td>-120.149167</td>\n      <td>5.0</td>\n      <td>USFS</td>\n      <td>CA</td>\n      <td>5</td>\n      <td>005</td>\n      <td>Amador</td>\n      <td>b'\\x00\\x01\\xad\\x10\\x00\\x00dS\\\\\\xf2\\x8b\\t^\\xc0\\...</td>\n    </tr>\n  </tbody>\n</table>\n<p>10 rows × 39 columns</p>\n</div>"
     },
     "metadata": {},
     "execution_count": 7
    }
   ],
   "source": [
    "sample_fires = fires_data.head(10)\n",
    "sample_fires_df = pd.DataFrame(sample_fires)\n",
    "sample_fires_df"
   ]
  },
  {
   "cell_type": "code",
   "execution_count": null,
   "metadata": {},
   "outputs": [],
   "source": [
    "# output of sample data to csv\n",
    "# skip this step... already generated\n",
    "\n",
    "output_path_fires_sample = \"output\\sample_fires.csv\"\n",
    "sample_fires_df.to_csv(output_path_fires_sample,index=False)"
   ]
  },
  {
   "cell_type": "code",
   "execution_count": 8,
   "metadata": {},
   "outputs": [
    {
     "output_type": "execute_result",
     "data": {
      "text/plain": [
       "   OBJECTID  FOD_ID      FPA_ID SOURCE_SYSTEM_TYPE SOURCE_SYSTEM  \\\n",
       "0         1       1  FS-1418826                FED   FS-FIRESTAT   \n",
       "1         2       2  FS-1418827                FED   FS-FIRESTAT   \n",
       "2         3       3  FS-1418835                FED   FS-FIRESTAT   \n",
       "3         4       4  FS-1418845                FED   FS-FIRESTAT   \n",
       "4         5       5  FS-1418847                FED   FS-FIRESTAT   \n",
       "5         6       6  FS-1418849                FED   FS-FIRESTAT   \n",
       "6         7       7  FS-1418851                FED   FS-FIRESTAT   \n",
       "7         8       8  FS-1418854                FED   FS-FIRESTAT   \n",
       "8         9       9  FS-1418856                FED   FS-FIRESTAT   \n",
       "9        10      10  FS-1418859                FED   FS-FIRESTAT   \n",
       "\n",
       "  NWCG_REPORTING_AGENCY NWCG_REPORTING_UNIT_ID  \\\n",
       "0                    FS                USCAPNF   \n",
       "1                    FS                USCAENF   \n",
       "2                    FS                USCAENF   \n",
       "3                    FS                USCAENF   \n",
       "4                    FS                USCAENF   \n",
       "5                    FS                USCAENF   \n",
       "6                    FS                USCAENF   \n",
       "7                    FS                USCASHF   \n",
       "8                    FS                USCASHF   \n",
       "9                    FS                USCAENF   \n",
       "\n",
       "         NWCG_REPORTING_UNIT_NAME SOURCE_REPORTING_UNIT  \\\n",
       "0          Plumas National Forest                  0511   \n",
       "1        Eldorado National Forest                  0503   \n",
       "2        Eldorado National Forest                  0503   \n",
       "3        Eldorado National Forest                  0503   \n",
       "4        Eldorado National Forest                  0503   \n",
       "5        Eldorado National Forest                  0503   \n",
       "6        Eldorado National Forest                  0503   \n",
       "7  Shasta-Trinity National Forest                  0514   \n",
       "8  Shasta-Trinity National Forest                  0514   \n",
       "9        Eldorado National Forest                  0503   \n",
       "\n",
       "       SOURCE_REPORTING_UNIT_NAME  ... FIRE_SIZE_CLASS   LATITUDE   LONGITUDE  \\\n",
       "0          Plumas National Forest  ...               A  40.036944 -121.005833   \n",
       "1        Eldorado National Forest  ...               A  38.933056 -120.404444   \n",
       "2        Eldorado National Forest  ...               A  38.984167 -120.735556   \n",
       "3        Eldorado National Forest  ...               A  38.559167 -119.913333   \n",
       "4        Eldorado National Forest  ...               A  38.559167 -119.933056   \n",
       "5        Eldorado National Forest  ...               A  38.635278 -120.103611   \n",
       "6        Eldorado National Forest  ...               A  38.688333 -120.153333   \n",
       "7  Shasta-Trinity National Forest  ...               B  40.968056 -122.433889   \n",
       "8  Shasta-Trinity National Forest  ...               B  41.233611 -122.283333   \n",
       "9        Eldorado National Forest  ...               A  38.548333 -120.149167   \n",
       "\n",
       "  OWNER_CODE       OWNER_DESCR STATE COUNTY FIPS_CODE  FIPS_NAME  \\\n",
       "0        5.0              USFS    CA     63       063     Plumas   \n",
       "1        5.0              USFS    CA     61       061     Placer   \n",
       "2       13.0  STATE OR PRIVATE    CA     17       017  El Dorado   \n",
       "3        5.0              USFS    CA      3       003     Alpine   \n",
       "4        5.0              USFS    CA      3       003     Alpine   \n",
       "5        5.0              USFS    CA      5       005     Amador   \n",
       "6        5.0              USFS    CA     17       017  El Dorado   \n",
       "7       13.0  STATE OR PRIVATE    CA   None      None       None   \n",
       "8       13.0  STATE OR PRIVATE    CA   None      None       None   \n",
       "9        5.0              USFS    CA      5       005     Amador   \n",
       "\n",
       "                                               Shape  \n",
       "0  b'\\x00\\x01\\xad\\x10\\x00\\x00\\xe8d\\xc2\\x92_@^\\xc0...  \n",
       "1  b'\\x00\\x01\\xad\\x10\\x00\\x00T\\xb6\\xeej\\xe2\\x19^\\...  \n",
       "2  b'\\x00\\x01\\xad\\x10\\x00\\x00\\xd0\\xa5\\xa0W\\x13/^\\...  \n",
       "3  b'\\x00\\x01\\xad\\x10\\x00\\x00\\x94\\xac\\xa3\\rt\\xfa]...  \n",
       "4  b'\\x00\\x01\\xad\\x10\\x00\\x00@\\xe3\\xaa.\\xb7\\xfb]\\...  \n",
       "5  b'\\x00\\x01\\xad\\x10\\x00\\x00\\xf0<~\\x90\\xa1\\x06^\\...  \n",
       "6  b'\\x00\\x01\\xad\\x10\\x00\\x00$o\\x996\\xd0\\t^\\xc0h\\...  \n",
       "7  b'\\x00\\x01\\xad\\x10\\x00\\x00t)\\xe8\\xd5\\xc4\\x9b^\\...  \n",
       "8  b'\\x00\\x01\\xad\\x10\\x00\\x00\\xdc\\x8d\\x1e\"\"\\x92^\\...  \n",
       "9  b'\\x00\\x01\\xad\\x10\\x00\\x00dS\\\\\\xf2\\x8b\\t^\\xc0\\...  \n",
       "\n",
       "[10 rows x 39 columns]"
      ],
      "text/html": "<div>\n<style scoped>\n    .dataframe tbody tr th:only-of-type {\n        vertical-align: middle;\n    }\n\n    .dataframe tbody tr th {\n        vertical-align: top;\n    }\n\n    .dataframe thead th {\n        text-align: right;\n    }\n</style>\n<table border=\"1\" class=\"dataframe\">\n  <thead>\n    <tr style=\"text-align: right;\">\n      <th></th>\n      <th>OBJECTID</th>\n      <th>FOD_ID</th>\n      <th>FPA_ID</th>\n      <th>SOURCE_SYSTEM_TYPE</th>\n      <th>SOURCE_SYSTEM</th>\n      <th>NWCG_REPORTING_AGENCY</th>\n      <th>NWCG_REPORTING_UNIT_ID</th>\n      <th>NWCG_REPORTING_UNIT_NAME</th>\n      <th>SOURCE_REPORTING_UNIT</th>\n      <th>SOURCE_REPORTING_UNIT_NAME</th>\n      <th>...</th>\n      <th>FIRE_SIZE_CLASS</th>\n      <th>LATITUDE</th>\n      <th>LONGITUDE</th>\n      <th>OWNER_CODE</th>\n      <th>OWNER_DESCR</th>\n      <th>STATE</th>\n      <th>COUNTY</th>\n      <th>FIPS_CODE</th>\n      <th>FIPS_NAME</th>\n      <th>Shape</th>\n    </tr>\n  </thead>\n  <tbody>\n    <tr>\n      <th>0</th>\n      <td>1</td>\n      <td>1</td>\n      <td>FS-1418826</td>\n      <td>FED</td>\n      <td>FS-FIRESTAT</td>\n      <td>FS</td>\n      <td>USCAPNF</td>\n      <td>Plumas National Forest</td>\n      <td>0511</td>\n      <td>Plumas National Forest</td>\n      <td>...</td>\n      <td>A</td>\n      <td>40.036944</td>\n      <td>-121.005833</td>\n      <td>5.0</td>\n      <td>USFS</td>\n      <td>CA</td>\n      <td>63</td>\n      <td>063</td>\n      <td>Plumas</td>\n      <td>b'\\x00\\x01\\xad\\x10\\x00\\x00\\xe8d\\xc2\\x92_@^\\xc0...</td>\n    </tr>\n    <tr>\n      <th>1</th>\n      <td>2</td>\n      <td>2</td>\n      <td>FS-1418827</td>\n      <td>FED</td>\n      <td>FS-FIRESTAT</td>\n      <td>FS</td>\n      <td>USCAENF</td>\n      <td>Eldorado National Forest</td>\n      <td>0503</td>\n      <td>Eldorado National Forest</td>\n      <td>...</td>\n      <td>A</td>\n      <td>38.933056</td>\n      <td>-120.404444</td>\n      <td>5.0</td>\n      <td>USFS</td>\n      <td>CA</td>\n      <td>61</td>\n      <td>061</td>\n      <td>Placer</td>\n      <td>b'\\x00\\x01\\xad\\x10\\x00\\x00T\\xb6\\xeej\\xe2\\x19^\\...</td>\n    </tr>\n    <tr>\n      <th>2</th>\n      <td>3</td>\n      <td>3</td>\n      <td>FS-1418835</td>\n      <td>FED</td>\n      <td>FS-FIRESTAT</td>\n      <td>FS</td>\n      <td>USCAENF</td>\n      <td>Eldorado National Forest</td>\n      <td>0503</td>\n      <td>Eldorado National Forest</td>\n      <td>...</td>\n      <td>A</td>\n      <td>38.984167</td>\n      <td>-120.735556</td>\n      <td>13.0</td>\n      <td>STATE OR PRIVATE</td>\n      <td>CA</td>\n      <td>17</td>\n      <td>017</td>\n      <td>El Dorado</td>\n      <td>b'\\x00\\x01\\xad\\x10\\x00\\x00\\xd0\\xa5\\xa0W\\x13/^\\...</td>\n    </tr>\n    <tr>\n      <th>3</th>\n      <td>4</td>\n      <td>4</td>\n      <td>FS-1418845</td>\n      <td>FED</td>\n      <td>FS-FIRESTAT</td>\n      <td>FS</td>\n      <td>USCAENF</td>\n      <td>Eldorado National Forest</td>\n      <td>0503</td>\n      <td>Eldorado National Forest</td>\n      <td>...</td>\n      <td>A</td>\n      <td>38.559167</td>\n      <td>-119.913333</td>\n      <td>5.0</td>\n      <td>USFS</td>\n      <td>CA</td>\n      <td>3</td>\n      <td>003</td>\n      <td>Alpine</td>\n      <td>b'\\x00\\x01\\xad\\x10\\x00\\x00\\x94\\xac\\xa3\\rt\\xfa]...</td>\n    </tr>\n    <tr>\n      <th>4</th>\n      <td>5</td>\n      <td>5</td>\n      <td>FS-1418847</td>\n      <td>FED</td>\n      <td>FS-FIRESTAT</td>\n      <td>FS</td>\n      <td>USCAENF</td>\n      <td>Eldorado National Forest</td>\n      <td>0503</td>\n      <td>Eldorado National Forest</td>\n      <td>...</td>\n      <td>A</td>\n      <td>38.559167</td>\n      <td>-119.933056</td>\n      <td>5.0</td>\n      <td>USFS</td>\n      <td>CA</td>\n      <td>3</td>\n      <td>003</td>\n      <td>Alpine</td>\n      <td>b'\\x00\\x01\\xad\\x10\\x00\\x00@\\xe3\\xaa.\\xb7\\xfb]\\...</td>\n    </tr>\n    <tr>\n      <th>5</th>\n      <td>6</td>\n      <td>6</td>\n      <td>FS-1418849</td>\n      <td>FED</td>\n      <td>FS-FIRESTAT</td>\n      <td>FS</td>\n      <td>USCAENF</td>\n      <td>Eldorado National Forest</td>\n      <td>0503</td>\n      <td>Eldorado National Forest</td>\n      <td>...</td>\n      <td>A</td>\n      <td>38.635278</td>\n      <td>-120.103611</td>\n      <td>5.0</td>\n      <td>USFS</td>\n      <td>CA</td>\n      <td>5</td>\n      <td>005</td>\n      <td>Amador</td>\n      <td>b'\\x00\\x01\\xad\\x10\\x00\\x00\\xf0&lt;~\\x90\\xa1\\x06^\\...</td>\n    </tr>\n    <tr>\n      <th>6</th>\n      <td>7</td>\n      <td>7</td>\n      <td>FS-1418851</td>\n      <td>FED</td>\n      <td>FS-FIRESTAT</td>\n      <td>FS</td>\n      <td>USCAENF</td>\n      <td>Eldorado National Forest</td>\n      <td>0503</td>\n      <td>Eldorado National Forest</td>\n      <td>...</td>\n      <td>A</td>\n      <td>38.688333</td>\n      <td>-120.153333</td>\n      <td>5.0</td>\n      <td>USFS</td>\n      <td>CA</td>\n      <td>17</td>\n      <td>017</td>\n      <td>El Dorado</td>\n      <td>b'\\x00\\x01\\xad\\x10\\x00\\x00$o\\x996\\xd0\\t^\\xc0h\\...</td>\n    </tr>\n    <tr>\n      <th>7</th>\n      <td>8</td>\n      <td>8</td>\n      <td>FS-1418854</td>\n      <td>FED</td>\n      <td>FS-FIRESTAT</td>\n      <td>FS</td>\n      <td>USCASHF</td>\n      <td>Shasta-Trinity National Forest</td>\n      <td>0514</td>\n      <td>Shasta-Trinity National Forest</td>\n      <td>...</td>\n      <td>B</td>\n      <td>40.968056</td>\n      <td>-122.433889</td>\n      <td>13.0</td>\n      <td>STATE OR PRIVATE</td>\n      <td>CA</td>\n      <td>None</td>\n      <td>None</td>\n      <td>None</td>\n      <td>b'\\x00\\x01\\xad\\x10\\x00\\x00t)\\xe8\\xd5\\xc4\\x9b^\\...</td>\n    </tr>\n    <tr>\n      <th>8</th>\n      <td>9</td>\n      <td>9</td>\n      <td>FS-1418856</td>\n      <td>FED</td>\n      <td>FS-FIRESTAT</td>\n      <td>FS</td>\n      <td>USCASHF</td>\n      <td>Shasta-Trinity National Forest</td>\n      <td>0514</td>\n      <td>Shasta-Trinity National Forest</td>\n      <td>...</td>\n      <td>B</td>\n      <td>41.233611</td>\n      <td>-122.283333</td>\n      <td>13.0</td>\n      <td>STATE OR PRIVATE</td>\n      <td>CA</td>\n      <td>None</td>\n      <td>None</td>\n      <td>None</td>\n      <td>b'\\x00\\x01\\xad\\x10\\x00\\x00\\xdc\\x8d\\x1e\"\"\\x92^\\...</td>\n    </tr>\n    <tr>\n      <th>9</th>\n      <td>10</td>\n      <td>10</td>\n      <td>FS-1418859</td>\n      <td>FED</td>\n      <td>FS-FIRESTAT</td>\n      <td>FS</td>\n      <td>USCAENF</td>\n      <td>Eldorado National Forest</td>\n      <td>0503</td>\n      <td>Eldorado National Forest</td>\n      <td>...</td>\n      <td>A</td>\n      <td>38.548333</td>\n      <td>-120.149167</td>\n      <td>5.0</td>\n      <td>USFS</td>\n      <td>CA</td>\n      <td>5</td>\n      <td>005</td>\n      <td>Amador</td>\n      <td>b'\\x00\\x01\\xad\\x10\\x00\\x00dS\\\\\\xf2\\x8b\\t^\\xc0\\...</td>\n    </tr>\n  </tbody>\n</table>\n<p>10 rows × 39 columns</p>\n</div>"
     },
     "metadata": {},
     "execution_count": 8
    }
   ],
   "source": [
    "# testing out juliann time conversion on smaller database\n",
    "epoch = pd.to_datetime(0, unit='s').to_julian_date()\n",
    "sample_fires_df[\"DISCOVERY_DATE\"] = pd.to_datetime(sample_fires_df[\"DISCOVERY_DATE\"] - epoch, unit='D')\n",
    "sample_fires_df"
   ]
  },
  {
   "cell_type": "code",
   "execution_count": 9,
   "metadata": {},
   "outputs": [
    {
     "output_type": "execute_result",
     "data": {
      "text/plain": [
       "0   2005-02-02\n",
       "1   2004-05-12\n",
       "2   2004-05-31\n",
       "3   2004-06-28\n",
       "4   2004-06-28\n",
       "5   2004-06-30\n",
       "6   2004-07-01\n",
       "7   2005-03-08\n",
       "8   2005-03-15\n",
       "9   2004-07-01\n",
       "Name: DISCOVERY_DATE, dtype: datetime64[ns]"
      ]
     },
     "metadata": {},
     "execution_count": 9
    }
   ],
   "source": [
    "sample_fires_df[\"DISCOVERY_DATE\"]"
   ]
  },
  {
   "cell_type": "code",
   "execution_count": null,
   "metadata": {},
   "outputs": [],
   "source": [
    "fires_data"
   ]
  }
 ]
}