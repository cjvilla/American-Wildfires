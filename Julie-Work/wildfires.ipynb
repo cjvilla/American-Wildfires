{
 "metadata": {
  "language_info": {
   "codemirror_mode": {
    "name": "ipython",
    "version": 3
   },
   "file_extension": ".py",
   "mimetype": "text/x-python",
   "name": "python",
   "nbconvert_exporter": "python",
   "pygments_lexer": "ipython3",
   "version": "3.8.5"
  },
  "orig_nbformat": 2,
  "kernelspec": {
   "name": "python385jvsc74a57bd0320b063615c881cf99d5bda0a05a87a093cceae5b3aed84278fa7ef3d4b95f2a",
   "display_name": "Python 3.8.5 64-bit ('base': conda)"
  }
 },
 "nbformat": 4,
 "nbformat_minor": 2,
 "cells": [
  {
   "cell_type": "code",
   "execution_count": 8,
   "metadata": {},
   "outputs": [],
   "source": [
    "#import necessaru libraries\n",
    "\n",
    "import sqlite3 as lite\n",
    "import pandas as pd\n",
    "import json \n",
    "from sqlalchemy.orm import Session\n",
    "from sqlalchemy import create_engine, inspect, func\n"
   ]
  },
  {
   "cell_type": "code",
   "execution_count": 9,
   "metadata": {},
   "outputs": [
    {
     "output_type": "stream",
     "name": "stdout",
     "text": [
      "Index(['OBJECTID', 'FOD_ID', 'FPA_ID', 'SOURCE_SYSTEM_TYPE', 'SOURCE_SYSTEM',\n       'NWCG_REPORTING_AGENCY', 'NWCG_REPORTING_UNIT_ID',\n       'NWCG_REPORTING_UNIT_NAME', 'SOURCE_REPORTING_UNIT',\n       'SOURCE_REPORTING_UNIT_NAME', 'LOCAL_FIRE_REPORT_ID',\n       'LOCAL_INCIDENT_ID', 'FIRE_CODE', 'FIRE_NAME',\n       'ICS_209_INCIDENT_NUMBER', 'ICS_209_NAME', 'MTBS_ID', 'MTBS_FIRE_NAME',\n       'COMPLEX_NAME', 'FIRE_YEAR', 'DISCOVERY_DATE', 'DISCOVERY_DOY',\n       'DISCOVERY_TIME', 'STAT_CAUSE_CODE', 'STAT_CAUSE_DESCR', 'CONT_DATE',\n       'CONT_DOY', 'CONT_TIME', 'FIRE_SIZE', 'FIRE_SIZE_CLASS', 'LATITUDE',\n       'LONGITUDE', 'OWNER_CODE', 'OWNER_DESCR', 'STATE', 'COUNTY',\n       'FIPS_CODE', 'FIPS_NAME', 'Shape'],\n      dtype='object')\n"
     ]
    }
   ],
   "source": [
    "#create engine\n",
    "engine = create_engine(\"sqlite:///Resources/FPA_FOD_20170508.sqlite\")\n",
    "\n",
    "con = lite.connect('Resources/FPA_FOD_20170508.sqlite')\n",
    "\n",
    "query = \"SELECT * FROM fires LIMIT 10;\"\n",
    "\n",
    "df = pd.read_sql_query(query,con)\n",
    "\n",
    "df.head()\n",
    "#print column \n",
    "print(df.columns)\n"
   ]
  },
  {
   "cell_type": "code",
   "execution_count": 13,
   "metadata": {},
   "outputs": [
    {
     "output_type": "stream",
     "name": "stdout",
     "text": [
      "     FIRE_YEAR   STAT_CAUSE_DESCR  FIRE_COUNT  AVERAGE_SIZE\n0         2015              Arson        6626     28.644608\n1         2015           Campfire        3731     12.946318\n2         2015           Children        1350      5.076956\n3         2015     Debris Burning       18339     12.702001\n4         2015      Equipment Use        5484     92.795555\n..         ...                ...         ...           ...\n307       1992  Missing/Undefined        8366     18.880191\n308       1992          Powerline         128     24.852344\n309       1992           Railroad        1999     19.040540\n310       1992            Smoking        2618     20.131726\n311       1992          Structure          47     10.087234\n\n[312 rows x 4 columns]\n"
     ]
    }
   ],
   "source": [
    "#number of fires by year\n",
    "yquery = \"SELECT FIRE_YEAR, STAT_CAUSE_DESCR, COUNT(DISTINCT OBJECTID) AS FIRE_COUNT, AVG(FIRE_SIZE) AS AVERAGE_SIZE FROM fires GROUP BY FIRE_YEAR, STAT_CAUSE_DESCR ORDER BY FIRE_YEAR DESC;\"\n",
    "years_df = pd.read_sql_query(yquery,con)\n",
    "print(years_df)"
   ]
  },
  {
   "cell_type": "code",
   "execution_count": 11,
   "metadata": {},
   "outputs": [
    {
     "output_type": "stream",
     "name": "stdout",
     "text": [
      "     STAT_CAUSE_DESCR  COUNT(DISTINCT OBJECTID)  AVG(FIRE_SIZE)  \\\n0           Lightning                    278468      312.543994   \n1       Miscellaneous                    323805       44.453310   \n2               Arson                    281455       33.707961   \n3            Campfire                     76139       45.036860   \n4      Debris Burning                    429028       13.928678   \n5       Equipment Use                    147612       46.060255   \n6   Missing/Undefined                    166723       52.492610   \n7            Children                     61167        7.681107   \n8           Fireworks                     11500       27.670201   \n9             Smoking                     52869       15.938651   \n10          Powerline                     14448      111.395547   \n11           Railroad                     33455       25.395719   \n12          Structure                      3796       45.360746   \n\n    AVG(CONT_DATE - DISCOVERY_DATE)  \n0                          3.005525  \n1                          1.363937  \n2                          0.548622  \n3                          0.783850  \n4                          0.377767  \n5                          0.510349  \n6                          0.498260  \n7                          0.326313  \n8                          0.483398  \n9                          1.038886  \n10                         0.993355  \n11                         0.497155  \n12                         0.702694  \nIndex(['STAT_CAUSE_DESCR', 'COUNT(DISTINCT OBJECTID)', 'AVG(FIRE_SIZE)',\n       'AVG(CONT_DATE - DISCOVERY_DATE)'],\n      dtype='object')\n"
     ]
    }
   ],
   "source": [
    "causequery = \"SELECT STAT_CAUSE_DESCR, COUNT(DISTINCT OBJECTID), AVG(FIRE_SIZE), AVG(CONT_DATE - DISCOVERY_DATE) FROM fires GROUP BY STAT_CAUSE_DESCR ORDER BY COUNT(DISTINCT FIRE_CODE) DESC\"\n",
    "cause_df = pd.read_sql_query(causequery,con)\n",
    "print(cause_df)\n",
    "print(cause_df.columns)"
   ]
  },
  {
   "cell_type": "code",
   "execution_count": 12,
   "metadata": {},
   "outputs": [
    {
     "output_type": "stream",
     "name": "stdout",
     "text": [
      "   STATE  COUNT(DISTINCT OBJECTID)  AVG(FIRE_SIZE)\n0     AK                     12843     2509.779198\n1     NV                     16956      531.720650\n2     ID                     36698      372.890482\n3     NM                     37478      170.234318\n4     WY                     14166      169.523555\n5     MT                     40767      154.034541\n6     WA                     33513      142.697410\n7     OR                     61088      137.716104\n8     UT                     30725      133.927628\n9     NE                      7973      121.334348\n10    KS                      7673      120.241601\n11    AZ                     71586       77.901837\n12    OK                     43239       74.758674\n13    TX                    142021       68.906840\n14    CA                    189550       67.242725\n15    CO                     34157       53.936502\n16    SD                     30963       50.733637\n17    FL                     90261       49.154653\n18    KY                     27089       37.465052\n19    DE                       171       28.266959\n20    ND                     15201       27.143427\n21    MN                     44769       27.041154\n22    WV                     21967       26.249877\n23    MO                     17953       25.596042\n24    HI                      9895       25.544315\n25    LA                     30013       22.024586\n26    MD                      3622       18.575243\n27    IA                      4134       17.293654\n28    AR                     31663       16.072761\n29    VA                     21833       15.648139\n30    TN                     31154       15.620864\n31    MS                     79230       14.331488\n32    AL                     66570       13.828230\n33    MI                     10502       13.352641\n34    IL                      2327        9.801253\n35    GA                    168867        9.415452\n36    IN                      2098        8.256859\n37    OH                      3479        6.879521\n38    SC                     81315        6.661331\n39    NC                    111277        6.564892\n40    PA                      8712        6.282227\n41    PR                     22081        6.280894\n42    NJ                     25949        5.085496\n43    VT                       456        3.413346\n44    WI                     31861        2.783192\n45    MA                      2626        2.332342\n46    CT                      4976        2.259508\n47    ME                     13150        1.867349\n48    NH                      2452        1.575044\n49    RI                       480        1.171688\n50    NY                     80870        1.159540\n51    DC                        66        0.492424\n"
     ]
    }
   ],
   "source": [
    "statequery = \"SELECT STATE, COUNT(DISTINCT OBJECTID), AVG(FIRE_SIZE) FROM fires GROUP BY STATE ORDER BY AVG(FIRE_SIZE) DESC\"\n",
    "\n",
    "state_df = pd.read_sql_query(statequery,con)\n",
    "print(state_df)"
   ]
  },
  {
   "cell_type": "code",
   "execution_count": null,
   "metadata": {},
   "outputs": [],
   "source": []
  }
 ]
}